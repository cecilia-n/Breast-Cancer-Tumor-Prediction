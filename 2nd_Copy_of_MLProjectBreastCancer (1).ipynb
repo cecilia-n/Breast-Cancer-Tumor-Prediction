{
  "cells": [
    {
      "cell_type": "code",
      "execution_count": 1,
      "metadata": {
        "id": "3xHh8ylXBzmv"
      },
      "outputs": [],
      "source": [
        "import numpy as np\n",
        "import pandas as pd"
      ]
    },
    {
      "cell_type": "code",
      "execution_count": 2,
      "metadata": {
        "colab": {
          "base_uri": "https://localhost:8080/",
          "height": 73
        },
        "id": "NsoTALmqVTZ0",
        "outputId": "c1046bb2-a822-4800-aeb5-8a04fc44a031"
      },
      "outputs": [
        {
          "output_type": "display_data",
          "data": {
            "text/plain": [
              "<IPython.core.display.HTML object>"
            ],
            "text/html": [
              "\n",
              "     <input type=\"file\" id=\"files-4f02a017-0b77-458f-9c07-eef31a817a3e\" name=\"files[]\" multiple disabled\n",
              "        style=\"border:none\" />\n",
              "     <output id=\"result-4f02a017-0b77-458f-9c07-eef31a817a3e\">\n",
              "      Upload widget is only available when the cell has been executed in the\n",
              "      current browser session. Please rerun this cell to enable.\n",
              "      </output>\n",
              "      <script>// Copyright 2017 Google LLC\n",
              "//\n",
              "// Licensed under the Apache License, Version 2.0 (the \"License\");\n",
              "// you may not use this file except in compliance with the License.\n",
              "// You may obtain a copy of the License at\n",
              "//\n",
              "//      http://www.apache.org/licenses/LICENSE-2.0\n",
              "//\n",
              "// Unless required by applicable law or agreed to in writing, software\n",
              "// distributed under the License is distributed on an \"AS IS\" BASIS,\n",
              "// WITHOUT WARRANTIES OR CONDITIONS OF ANY KIND, either express or implied.\n",
              "// See the License for the specific language governing permissions and\n",
              "// limitations under the License.\n",
              "\n",
              "/**\n",
              " * @fileoverview Helpers for google.colab Python module.\n",
              " */\n",
              "(function(scope) {\n",
              "function span(text, styleAttributes = {}) {\n",
              "  const element = document.createElement('span');\n",
              "  element.textContent = text;\n",
              "  for (const key of Object.keys(styleAttributes)) {\n",
              "    element.style[key] = styleAttributes[key];\n",
              "  }\n",
              "  return element;\n",
              "}\n",
              "\n",
              "// Max number of bytes which will be uploaded at a time.\n",
              "const MAX_PAYLOAD_SIZE = 100 * 1024;\n",
              "\n",
              "function _uploadFiles(inputId, outputId) {\n",
              "  const steps = uploadFilesStep(inputId, outputId);\n",
              "  const outputElement = document.getElementById(outputId);\n",
              "  // Cache steps on the outputElement to make it available for the next call\n",
              "  // to uploadFilesContinue from Python.\n",
              "  outputElement.steps = steps;\n",
              "\n",
              "  return _uploadFilesContinue(outputId);\n",
              "}\n",
              "\n",
              "// This is roughly an async generator (not supported in the browser yet),\n",
              "// where there are multiple asynchronous steps and the Python side is going\n",
              "// to poll for completion of each step.\n",
              "// This uses a Promise to block the python side on completion of each step,\n",
              "// then passes the result of the previous step as the input to the next step.\n",
              "function _uploadFilesContinue(outputId) {\n",
              "  const outputElement = document.getElementById(outputId);\n",
              "  const steps = outputElement.steps;\n",
              "\n",
              "  const next = steps.next(outputElement.lastPromiseValue);\n",
              "  return Promise.resolve(next.value.promise).then((value) => {\n",
              "    // Cache the last promise value to make it available to the next\n",
              "    // step of the generator.\n",
              "    outputElement.lastPromiseValue = value;\n",
              "    return next.value.response;\n",
              "  });\n",
              "}\n",
              "\n",
              "/**\n",
              " * Generator function which is called between each async step of the upload\n",
              " * process.\n",
              " * @param {string} inputId Element ID of the input file picker element.\n",
              " * @param {string} outputId Element ID of the output display.\n",
              " * @return {!Iterable<!Object>} Iterable of next steps.\n",
              " */\n",
              "function* uploadFilesStep(inputId, outputId) {\n",
              "  const inputElement = document.getElementById(inputId);\n",
              "  inputElement.disabled = false;\n",
              "\n",
              "  const outputElement = document.getElementById(outputId);\n",
              "  outputElement.innerHTML = '';\n",
              "\n",
              "  const pickedPromise = new Promise((resolve) => {\n",
              "    inputElement.addEventListener('change', (e) => {\n",
              "      resolve(e.target.files);\n",
              "    });\n",
              "  });\n",
              "\n",
              "  const cancel = document.createElement('button');\n",
              "  inputElement.parentElement.appendChild(cancel);\n",
              "  cancel.textContent = 'Cancel upload';\n",
              "  const cancelPromise = new Promise((resolve) => {\n",
              "    cancel.onclick = () => {\n",
              "      resolve(null);\n",
              "    };\n",
              "  });\n",
              "\n",
              "  // Wait for the user to pick the files.\n",
              "  const files = yield {\n",
              "    promise: Promise.race([pickedPromise, cancelPromise]),\n",
              "    response: {\n",
              "      action: 'starting',\n",
              "    }\n",
              "  };\n",
              "\n",
              "  cancel.remove();\n",
              "\n",
              "  // Disable the input element since further picks are not allowed.\n",
              "  inputElement.disabled = true;\n",
              "\n",
              "  if (!files) {\n",
              "    return {\n",
              "      response: {\n",
              "        action: 'complete',\n",
              "      }\n",
              "    };\n",
              "  }\n",
              "\n",
              "  for (const file of files) {\n",
              "    const li = document.createElement('li');\n",
              "    li.append(span(file.name, {fontWeight: 'bold'}));\n",
              "    li.append(span(\n",
              "        `(${file.type || 'n/a'}) - ${file.size} bytes, ` +\n",
              "        `last modified: ${\n",
              "            file.lastModifiedDate ? file.lastModifiedDate.toLocaleDateString() :\n",
              "                                    'n/a'} - `));\n",
              "    const percent = span('0% done');\n",
              "    li.appendChild(percent);\n",
              "\n",
              "    outputElement.appendChild(li);\n",
              "\n",
              "    const fileDataPromise = new Promise((resolve) => {\n",
              "      const reader = new FileReader();\n",
              "      reader.onload = (e) => {\n",
              "        resolve(e.target.result);\n",
              "      };\n",
              "      reader.readAsArrayBuffer(file);\n",
              "    });\n",
              "    // Wait for the data to be ready.\n",
              "    let fileData = yield {\n",
              "      promise: fileDataPromise,\n",
              "      response: {\n",
              "        action: 'continue',\n",
              "      }\n",
              "    };\n",
              "\n",
              "    // Use a chunked sending to avoid message size limits. See b/62115660.\n",
              "    let position = 0;\n",
              "    do {\n",
              "      const length = Math.min(fileData.byteLength - position, MAX_PAYLOAD_SIZE);\n",
              "      const chunk = new Uint8Array(fileData, position, length);\n",
              "      position += length;\n",
              "\n",
              "      const base64 = btoa(String.fromCharCode.apply(null, chunk));\n",
              "      yield {\n",
              "        response: {\n",
              "          action: 'append',\n",
              "          file: file.name,\n",
              "          data: base64,\n",
              "        },\n",
              "      };\n",
              "\n",
              "      let percentDone = fileData.byteLength === 0 ?\n",
              "          100 :\n",
              "          Math.round((position / fileData.byteLength) * 100);\n",
              "      percent.textContent = `${percentDone}% done`;\n",
              "\n",
              "    } while (position < fileData.byteLength);\n",
              "  }\n",
              "\n",
              "  // All done.\n",
              "  yield {\n",
              "    response: {\n",
              "      action: 'complete',\n",
              "    }\n",
              "  };\n",
              "}\n",
              "\n",
              "scope.google = scope.google || {};\n",
              "scope.google.colab = scope.google.colab || {};\n",
              "scope.google.colab._files = {\n",
              "  _uploadFiles,\n",
              "  _uploadFilesContinue,\n",
              "};\n",
              "})(self);\n",
              "</script> "
            ]
          },
          "metadata": {}
        },
        {
          "output_type": "stream",
          "name": "stdout",
          "text": [
            "Saving data.csv to data (8).csv\n"
          ]
        }
      ],
      "source": [
        "from google.colab import files\n",
        "uploaded = files.upload()       # Will prompt you to select a file"
      ]
    },
    {
      "cell_type": "code",
      "execution_count": 3,
      "metadata": {
        "id": "jr72b8KXcsyR"
      },
      "outputs": [],
      "source": [
        "import io\n",
        "data = pd.read_csv(io.BytesIO(uploaded['data.csv'])) # Dataset is now stored in a Pandas Dataframe"
      ]
    },
    {
      "cell_type": "markdown",
      "metadata": {
        "id": "qtOi08ecc2eS"
      },
      "source": [
        "# Exploratory Data Analysis"
      ]
    },
    {
      "cell_type": "code",
      "execution_count": 4,
      "metadata": {
        "colab": {
          "base_uri": "https://localhost:8080/"
        },
        "id": "y4ysNvHhGwtg",
        "outputId": "fe40534a-2cca-4353-e53a-947db673249c"
      },
      "outputs": [
        {
          "output_type": "stream",
          "name": "stdout",
          "text": [
            "There are 569 rows and 33 columns in the dataset.\n"
          ]
        }
      ],
      "source": [
        "print(\"There are\", data.shape[0], \"rows and\", data.shape[1], \"columns in the dataset.\")"
      ]
    },
    {
      "cell_type": "code",
      "execution_count": 5,
      "metadata": {
        "colab": {
          "base_uri": "https://localhost:8080/"
        },
        "id": "FMdzvlb3c1KW",
        "outputId": "9cca801e-a54c-4aa2-c063-4c0299113e91"
      },
      "outputs": [
        {
          "output_type": "stream",
          "name": "stdout",
          "text": [
            "<class 'pandas.core.frame.DataFrame'>\n",
            "RangeIndex: 569 entries, 0 to 568\n",
            "Data columns (total 33 columns):\n",
            " #   Column                   Non-Null Count  Dtype  \n",
            "---  ------                   --------------  -----  \n",
            " 0   id                       569 non-null    int64  \n",
            " 1   diagnosis                569 non-null    object \n",
            " 2   radius_mean              569 non-null    float64\n",
            " 3   texture_mean             569 non-null    float64\n",
            " 4   perimeter_mean           569 non-null    float64\n",
            " 5   area_mean                569 non-null    float64\n",
            " 6   smoothness_mean          569 non-null    float64\n",
            " 7   compactness_mean         569 non-null    float64\n",
            " 8   concavity_mean           569 non-null    float64\n",
            " 9   concave points_mean      569 non-null    float64\n",
            " 10  symmetry_mean            569 non-null    float64\n",
            " 11  fractal_dimension_mean   569 non-null    float64\n",
            " 12  radius_se                569 non-null    float64\n",
            " 13  texture_se               569 non-null    float64\n",
            " 14  perimeter_se             569 non-null    float64\n",
            " 15  area_se                  569 non-null    float64\n",
            " 16  smoothness_se            569 non-null    float64\n",
            " 17  compactness_se           569 non-null    float64\n",
            " 18  concavity_se             569 non-null    float64\n",
            " 19  concave points_se        569 non-null    float64\n",
            " 20  symmetry_se              569 non-null    float64\n",
            " 21  fractal_dimension_se     569 non-null    float64\n",
            " 22  radius_worst             569 non-null    float64\n",
            " 23  texture_worst            569 non-null    float64\n",
            " 24  perimeter_worst          569 non-null    float64\n",
            " 25  area_worst               569 non-null    float64\n",
            " 26  smoothness_worst         569 non-null    float64\n",
            " 27  compactness_worst        569 non-null    float64\n",
            " 28  concavity_worst          569 non-null    float64\n",
            " 29  concave points_worst     569 non-null    float64\n",
            " 30  symmetry_worst           569 non-null    float64\n",
            " 31  fractal_dimension_worst  569 non-null    float64\n",
            " 32  Unnamed: 32              0 non-null      float64\n",
            "dtypes: float64(31), int64(1), object(1)\n",
            "memory usage: 146.8+ KB\n"
          ]
        }
      ],
      "source": [
        "data.info()"
      ]
    },
    {
      "cell_type": "markdown",
      "metadata": {
        "id": "bZp8Fqr8GOgb"
      },
      "source": [
        "The last column in the dataset contains all NA values, and so we remove it."
      ]
    },
    {
      "cell_type": "markdown",
      "metadata": {
        "id": "bM2nS-0JGg8k"
      },
      "source": [
        "## Cleaning Data"
      ]
    },
    {
      "cell_type": "code",
      "execution_count": 6,
      "metadata": {
        "colab": {
          "base_uri": "https://localhost:8080/"
        },
        "id": "x7dVxeCSGfht",
        "outputId": "8f3b58f6-ae20-4101-cf26-3eacedf88d24"
      },
      "outputs": [
        {
          "output_type": "stream",
          "name": "stdout",
          "text": [
            "After data cleaning, there are 569 observations and 32 features in the dataset.\n"
          ]
        }
      ],
      "source": [
        "data = data.drop(['Unnamed: 32'], axis = 1)\n",
        "print(\"After data cleaning, there are\", data.shape[0], \"observations and\", data.shape[1], \"features in the dataset.\")"
      ]
    },
    {
      "cell_type": "code",
      "execution_count": 7,
      "metadata": {
        "colab": {
          "base_uri": "https://localhost:8080/",
          "height": 317
        },
        "id": "81ragC2mHW4_",
        "outputId": "88beef44-4f06-41a9-bd7e-7b0b73e9c206"
      },
      "outputs": [
        {
          "output_type": "execute_result",
          "data": {
            "text/plain": [
              "         id diagnosis  radius_mean  texture_mean  perimeter_mean  area_mean  \\\n",
              "0    842302         M        17.99         10.38          122.80     1001.0   \n",
              "1    842517         M        20.57         17.77          132.90     1326.0   \n",
              "2  84300903         M        19.69         21.25          130.00     1203.0   \n",
              "3  84348301         M        11.42         20.38           77.58      386.1   \n",
              "4  84358402         M        20.29         14.34          135.10     1297.0   \n",
              "\n",
              "   smoothness_mean  compactness_mean  concavity_mean  concave points_mean  \\\n",
              "0          0.11840           0.27760          0.3001              0.14710   \n",
              "1          0.08474           0.07864          0.0869              0.07017   \n",
              "2          0.10960           0.15990          0.1974              0.12790   \n",
              "3          0.14250           0.28390          0.2414              0.10520   \n",
              "4          0.10030           0.13280          0.1980              0.10430   \n",
              "\n",
              "   ...  radius_worst  texture_worst  perimeter_worst  area_worst  \\\n",
              "0  ...         25.38          17.33           184.60      2019.0   \n",
              "1  ...         24.99          23.41           158.80      1956.0   \n",
              "2  ...         23.57          25.53           152.50      1709.0   \n",
              "3  ...         14.91          26.50            98.87       567.7   \n",
              "4  ...         22.54          16.67           152.20      1575.0   \n",
              "\n",
              "   smoothness_worst  compactness_worst  concavity_worst  concave points_worst  \\\n",
              "0            0.1622             0.6656           0.7119                0.2654   \n",
              "1            0.1238             0.1866           0.2416                0.1860   \n",
              "2            0.1444             0.4245           0.4504                0.2430   \n",
              "3            0.2098             0.8663           0.6869                0.2575   \n",
              "4            0.1374             0.2050           0.4000                0.1625   \n",
              "\n",
              "   symmetry_worst  fractal_dimension_worst  \n",
              "0          0.4601                  0.11890  \n",
              "1          0.2750                  0.08902  \n",
              "2          0.3613                  0.08758  \n",
              "3          0.6638                  0.17300  \n",
              "4          0.2364                  0.07678  \n",
              "\n",
              "[5 rows x 32 columns]"
            ],
            "text/html": [
              "\n",
              "  <div id=\"df-ff9c0d35-aa02-4a54-bce9-e157a362f0fe\">\n",
              "    <div class=\"colab-df-container\">\n",
              "      <div>\n",
              "<style scoped>\n",
              "    .dataframe tbody tr th:only-of-type {\n",
              "        vertical-align: middle;\n",
              "    }\n",
              "\n",
              "    .dataframe tbody tr th {\n",
              "        vertical-align: top;\n",
              "    }\n",
              "\n",
              "    .dataframe thead th {\n",
              "        text-align: right;\n",
              "    }\n",
              "</style>\n",
              "<table border=\"1\" class=\"dataframe\">\n",
              "  <thead>\n",
              "    <tr style=\"text-align: right;\">\n",
              "      <th></th>\n",
              "      <th>id</th>\n",
              "      <th>diagnosis</th>\n",
              "      <th>radius_mean</th>\n",
              "      <th>texture_mean</th>\n",
              "      <th>perimeter_mean</th>\n",
              "      <th>area_mean</th>\n",
              "      <th>smoothness_mean</th>\n",
              "      <th>compactness_mean</th>\n",
              "      <th>concavity_mean</th>\n",
              "      <th>concave points_mean</th>\n",
              "      <th>...</th>\n",
              "      <th>radius_worst</th>\n",
              "      <th>texture_worst</th>\n",
              "      <th>perimeter_worst</th>\n",
              "      <th>area_worst</th>\n",
              "      <th>smoothness_worst</th>\n",
              "      <th>compactness_worst</th>\n",
              "      <th>concavity_worst</th>\n",
              "      <th>concave points_worst</th>\n",
              "      <th>symmetry_worst</th>\n",
              "      <th>fractal_dimension_worst</th>\n",
              "    </tr>\n",
              "  </thead>\n",
              "  <tbody>\n",
              "    <tr>\n",
              "      <th>0</th>\n",
              "      <td>842302</td>\n",
              "      <td>M</td>\n",
              "      <td>17.99</td>\n",
              "      <td>10.38</td>\n",
              "      <td>122.80</td>\n",
              "      <td>1001.0</td>\n",
              "      <td>0.11840</td>\n",
              "      <td>0.27760</td>\n",
              "      <td>0.3001</td>\n",
              "      <td>0.14710</td>\n",
              "      <td>...</td>\n",
              "      <td>25.38</td>\n",
              "      <td>17.33</td>\n",
              "      <td>184.60</td>\n",
              "      <td>2019.0</td>\n",
              "      <td>0.1622</td>\n",
              "      <td>0.6656</td>\n",
              "      <td>0.7119</td>\n",
              "      <td>0.2654</td>\n",
              "      <td>0.4601</td>\n",
              "      <td>0.11890</td>\n",
              "    </tr>\n",
              "    <tr>\n",
              "      <th>1</th>\n",
              "      <td>842517</td>\n",
              "      <td>M</td>\n",
              "      <td>20.57</td>\n",
              "      <td>17.77</td>\n",
              "      <td>132.90</td>\n",
              "      <td>1326.0</td>\n",
              "      <td>0.08474</td>\n",
              "      <td>0.07864</td>\n",
              "      <td>0.0869</td>\n",
              "      <td>0.07017</td>\n",
              "      <td>...</td>\n",
              "      <td>24.99</td>\n",
              "      <td>23.41</td>\n",
              "      <td>158.80</td>\n",
              "      <td>1956.0</td>\n",
              "      <td>0.1238</td>\n",
              "      <td>0.1866</td>\n",
              "      <td>0.2416</td>\n",
              "      <td>0.1860</td>\n",
              "      <td>0.2750</td>\n",
              "      <td>0.08902</td>\n",
              "    </tr>\n",
              "    <tr>\n",
              "      <th>2</th>\n",
              "      <td>84300903</td>\n",
              "      <td>M</td>\n",
              "      <td>19.69</td>\n",
              "      <td>21.25</td>\n",
              "      <td>130.00</td>\n",
              "      <td>1203.0</td>\n",
              "      <td>0.10960</td>\n",
              "      <td>0.15990</td>\n",
              "      <td>0.1974</td>\n",
              "      <td>0.12790</td>\n",
              "      <td>...</td>\n",
              "      <td>23.57</td>\n",
              "      <td>25.53</td>\n",
              "      <td>152.50</td>\n",
              "      <td>1709.0</td>\n",
              "      <td>0.1444</td>\n",
              "      <td>0.4245</td>\n",
              "      <td>0.4504</td>\n",
              "      <td>0.2430</td>\n",
              "      <td>0.3613</td>\n",
              "      <td>0.08758</td>\n",
              "    </tr>\n",
              "    <tr>\n",
              "      <th>3</th>\n",
              "      <td>84348301</td>\n",
              "      <td>M</td>\n",
              "      <td>11.42</td>\n",
              "      <td>20.38</td>\n",
              "      <td>77.58</td>\n",
              "      <td>386.1</td>\n",
              "      <td>0.14250</td>\n",
              "      <td>0.28390</td>\n",
              "      <td>0.2414</td>\n",
              "      <td>0.10520</td>\n",
              "      <td>...</td>\n",
              "      <td>14.91</td>\n",
              "      <td>26.50</td>\n",
              "      <td>98.87</td>\n",
              "      <td>567.7</td>\n",
              "      <td>0.2098</td>\n",
              "      <td>0.8663</td>\n",
              "      <td>0.6869</td>\n",
              "      <td>0.2575</td>\n",
              "      <td>0.6638</td>\n",
              "      <td>0.17300</td>\n",
              "    </tr>\n",
              "    <tr>\n",
              "      <th>4</th>\n",
              "      <td>84358402</td>\n",
              "      <td>M</td>\n",
              "      <td>20.29</td>\n",
              "      <td>14.34</td>\n",
              "      <td>135.10</td>\n",
              "      <td>1297.0</td>\n",
              "      <td>0.10030</td>\n",
              "      <td>0.13280</td>\n",
              "      <td>0.1980</td>\n",
              "      <td>0.10430</td>\n",
              "      <td>...</td>\n",
              "      <td>22.54</td>\n",
              "      <td>16.67</td>\n",
              "      <td>152.20</td>\n",
              "      <td>1575.0</td>\n",
              "      <td>0.1374</td>\n",
              "      <td>0.2050</td>\n",
              "      <td>0.4000</td>\n",
              "      <td>0.1625</td>\n",
              "      <td>0.2364</td>\n",
              "      <td>0.07678</td>\n",
              "    </tr>\n",
              "  </tbody>\n",
              "</table>\n",
              "<p>5 rows × 32 columns</p>\n",
              "</div>\n",
              "      <button class=\"colab-df-convert\" onclick=\"convertToInteractive('df-ff9c0d35-aa02-4a54-bce9-e157a362f0fe')\"\n",
              "              title=\"Convert this dataframe to an interactive table.\"\n",
              "              style=\"display:none;\">\n",
              "        \n",
              "  <svg xmlns=\"http://www.w3.org/2000/svg\" height=\"24px\"viewBox=\"0 0 24 24\"\n",
              "       width=\"24px\">\n",
              "    <path d=\"M0 0h24v24H0V0z\" fill=\"none\"/>\n",
              "    <path d=\"M18.56 5.44l.94 2.06.94-2.06 2.06-.94-2.06-.94-.94-2.06-.94 2.06-2.06.94zm-11 1L8.5 8.5l.94-2.06 2.06-.94-2.06-.94L8.5 2.5l-.94 2.06-2.06.94zm10 10l.94 2.06.94-2.06 2.06-.94-2.06-.94-.94-2.06-.94 2.06-2.06.94z\"/><path d=\"M17.41 7.96l-1.37-1.37c-.4-.4-.92-.59-1.43-.59-.52 0-1.04.2-1.43.59L10.3 9.45l-7.72 7.72c-.78.78-.78 2.05 0 2.83L4 21.41c.39.39.9.59 1.41.59.51 0 1.02-.2 1.41-.59l7.78-7.78 2.81-2.81c.8-.78.8-2.07 0-2.86zM5.41 20L4 18.59l7.72-7.72 1.47 1.35L5.41 20z\"/>\n",
              "  </svg>\n",
              "      </button>\n",
              "      \n",
              "  <style>\n",
              "    .colab-df-container {\n",
              "      display:flex;\n",
              "      flex-wrap:wrap;\n",
              "      gap: 12px;\n",
              "    }\n",
              "\n",
              "    .colab-df-convert {\n",
              "      background-color: #E8F0FE;\n",
              "      border: none;\n",
              "      border-radius: 50%;\n",
              "      cursor: pointer;\n",
              "      display: none;\n",
              "      fill: #1967D2;\n",
              "      height: 32px;\n",
              "      padding: 0 0 0 0;\n",
              "      width: 32px;\n",
              "    }\n",
              "\n",
              "    .colab-df-convert:hover {\n",
              "      background-color: #E2EBFA;\n",
              "      box-shadow: 0px 1px 2px rgba(60, 64, 67, 0.3), 0px 1px 3px 1px rgba(60, 64, 67, 0.15);\n",
              "      fill: #174EA6;\n",
              "    }\n",
              "\n",
              "    [theme=dark] .colab-df-convert {\n",
              "      background-color: #3B4455;\n",
              "      fill: #D2E3FC;\n",
              "    }\n",
              "\n",
              "    [theme=dark] .colab-df-convert:hover {\n",
              "      background-color: #434B5C;\n",
              "      box-shadow: 0px 1px 3px 1px rgba(0, 0, 0, 0.15);\n",
              "      filter: drop-shadow(0px 1px 2px rgba(0, 0, 0, 0.3));\n",
              "      fill: #FFFFFF;\n",
              "    }\n",
              "  </style>\n",
              "\n",
              "      <script>\n",
              "        const buttonEl =\n",
              "          document.querySelector('#df-ff9c0d35-aa02-4a54-bce9-e157a362f0fe button.colab-df-convert');\n",
              "        buttonEl.style.display =\n",
              "          google.colab.kernel.accessAllowed ? 'block' : 'none';\n",
              "\n",
              "        async function convertToInteractive(key) {\n",
              "          const element = document.querySelector('#df-ff9c0d35-aa02-4a54-bce9-e157a362f0fe');\n",
              "          const dataTable =\n",
              "            await google.colab.kernel.invokeFunction('convertToInteractive',\n",
              "                                                     [key], {});\n",
              "          if (!dataTable) return;\n",
              "\n",
              "          const docLinkHtml = 'Like what you see? Visit the ' +\n",
              "            '<a target=\"_blank\" href=https://colab.research.google.com/notebooks/data_table.ipynb>data table notebook</a>'\n",
              "            + ' to learn more about interactive tables.';\n",
              "          element.innerHTML = '';\n",
              "          dataTable['output_type'] = 'display_data';\n",
              "          await google.colab.output.renderOutput(dataTable, element);\n",
              "          const docLink = document.createElement('div');\n",
              "          docLink.innerHTML = docLinkHtml;\n",
              "          element.appendChild(docLink);\n",
              "        }\n",
              "      </script>\n",
              "    </div>\n",
              "  </div>\n",
              "  "
            ]
          },
          "metadata": {},
          "execution_count": 7
        }
      ],
      "source": [
        "data.head()"
      ]
    },
    {
      "cell_type": "code",
      "execution_count": 8,
      "metadata": {
        "colab": {
          "base_uri": "https://localhost:8080/"
        },
        "id": "FiWuXcraJSi8",
        "outputId": "872003a2-6efa-4c37-acb4-33532f9d10b6"
      },
      "outputs": [
        {
          "output_type": "execute_result",
          "data": {
            "text/plain": [
              "id                         False\n",
              "diagnosis                  False\n",
              "radius_mean                False\n",
              "texture_mean               False\n",
              "perimeter_mean             False\n",
              "area_mean                  False\n",
              "smoothness_mean            False\n",
              "compactness_mean           False\n",
              "concavity_mean             False\n",
              "concave points_mean        False\n",
              "symmetry_mean              False\n",
              "fractal_dimension_mean     False\n",
              "radius_se                  False\n",
              "texture_se                 False\n",
              "perimeter_se               False\n",
              "area_se                    False\n",
              "smoothness_se              False\n",
              "compactness_se             False\n",
              "concavity_se               False\n",
              "concave points_se          False\n",
              "symmetry_se                False\n",
              "fractal_dimension_se       False\n",
              "radius_worst               False\n",
              "texture_worst              False\n",
              "perimeter_worst            False\n",
              "area_worst                 False\n",
              "smoothness_worst           False\n",
              "compactness_worst          False\n",
              "concavity_worst            False\n",
              "concave points_worst       False\n",
              "symmetry_worst             False\n",
              "fractal_dimension_worst    False\n",
              "dtype: bool"
            ]
          },
          "metadata": {},
          "execution_count": 8
        }
      ],
      "source": [
        "data.isna().any()"
      ]
    },
    {
      "cell_type": "markdown",
      "metadata": {
        "id": "N-4YLrmwKHS9"
      },
      "source": [
        "There are no features that contains NA values."
      ]
    },
    {
      "cell_type": "markdown",
      "metadata": {
        "id": "71VwLT9vQaHY"
      },
      "source": [
        "\n",
        "## Numerical Features: Descriptive Statistics"
      ]
    },
    {
      "cell_type": "code",
      "execution_count": 9,
      "metadata": {
        "colab": {
          "base_uri": "https://localhost:8080/",
          "height": 411
        },
        "id": "9hMfZZzkKgnr",
        "outputId": "379ff117-f720-4f47-c5f2-31e0d3e9b492"
      },
      "outputs": [
        {
          "output_type": "execute_result",
          "data": {
            "text/plain": [
              "                 id  radius_mean  texture_mean  perimeter_mean    area_mean  \\\n",
              "count  5.690000e+02   569.000000    569.000000      569.000000   569.000000   \n",
              "mean   3.037183e+07    14.127292     19.289649       91.969033   654.889104   \n",
              "std    1.250206e+08     3.524049      4.301036       24.298981   351.914129   \n",
              "min    8.670000e+03     6.981000      9.710000       43.790000   143.500000   \n",
              "25%    8.692180e+05    11.700000     16.170000       75.170000   420.300000   \n",
              "50%    9.060240e+05    13.370000     18.840000       86.240000   551.100000   \n",
              "75%    8.813129e+06    15.780000     21.800000      104.100000   782.700000   \n",
              "max    9.113205e+08    28.110000     39.280000      188.500000  2501.000000   \n",
              "\n",
              "       smoothness_mean  compactness_mean  concavity_mean  concave points_mean  \\\n",
              "count       569.000000        569.000000      569.000000           569.000000   \n",
              "mean          0.096360          0.104341        0.088799             0.048919   \n",
              "std           0.014064          0.052813        0.079720             0.038803   \n",
              "min           0.052630          0.019380        0.000000             0.000000   \n",
              "25%           0.086370          0.064920        0.029560             0.020310   \n",
              "50%           0.095870          0.092630        0.061540             0.033500   \n",
              "75%           0.105300          0.130400        0.130700             0.074000   \n",
              "max           0.163400          0.345400        0.426800             0.201200   \n",
              "\n",
              "       symmetry_mean  ...  radius_worst  texture_worst  perimeter_worst  \\\n",
              "count     569.000000  ...    569.000000     569.000000       569.000000   \n",
              "mean        0.181162  ...     16.269190      25.677223       107.261213   \n",
              "std         0.027414  ...      4.833242       6.146258        33.602542   \n",
              "min         0.106000  ...      7.930000      12.020000        50.410000   \n",
              "25%         0.161900  ...     13.010000      21.080000        84.110000   \n",
              "50%         0.179200  ...     14.970000      25.410000        97.660000   \n",
              "75%         0.195700  ...     18.790000      29.720000       125.400000   \n",
              "max         0.304000  ...     36.040000      49.540000       251.200000   \n",
              "\n",
              "        area_worst  smoothness_worst  compactness_worst  concavity_worst  \\\n",
              "count   569.000000        569.000000         569.000000       569.000000   \n",
              "mean    880.583128          0.132369           0.254265         0.272188   \n",
              "std     569.356993          0.022832           0.157336         0.208624   \n",
              "min     185.200000          0.071170           0.027290         0.000000   \n",
              "25%     515.300000          0.116600           0.147200         0.114500   \n",
              "50%     686.500000          0.131300           0.211900         0.226700   \n",
              "75%    1084.000000          0.146000           0.339100         0.382900   \n",
              "max    4254.000000          0.222600           1.058000         1.252000   \n",
              "\n",
              "       concave points_worst  symmetry_worst  fractal_dimension_worst  \n",
              "count            569.000000      569.000000               569.000000  \n",
              "mean               0.114606        0.290076                 0.083946  \n",
              "std                0.065732        0.061867                 0.018061  \n",
              "min                0.000000        0.156500                 0.055040  \n",
              "25%                0.064930        0.250400                 0.071460  \n",
              "50%                0.099930        0.282200                 0.080040  \n",
              "75%                0.161400        0.317900                 0.092080  \n",
              "max                0.291000        0.663800                 0.207500  \n",
              "\n",
              "[8 rows x 31 columns]"
            ],
            "text/html": [
              "\n",
              "  <div id=\"df-cb634460-2189-4cfe-812f-0cefadcb7409\">\n",
              "    <div class=\"colab-df-container\">\n",
              "      <div>\n",
              "<style scoped>\n",
              "    .dataframe tbody tr th:only-of-type {\n",
              "        vertical-align: middle;\n",
              "    }\n",
              "\n",
              "    .dataframe tbody tr th {\n",
              "        vertical-align: top;\n",
              "    }\n",
              "\n",
              "    .dataframe thead th {\n",
              "        text-align: right;\n",
              "    }\n",
              "</style>\n",
              "<table border=\"1\" class=\"dataframe\">\n",
              "  <thead>\n",
              "    <tr style=\"text-align: right;\">\n",
              "      <th></th>\n",
              "      <th>id</th>\n",
              "      <th>radius_mean</th>\n",
              "      <th>texture_mean</th>\n",
              "      <th>perimeter_mean</th>\n",
              "      <th>area_mean</th>\n",
              "      <th>smoothness_mean</th>\n",
              "      <th>compactness_mean</th>\n",
              "      <th>concavity_mean</th>\n",
              "      <th>concave points_mean</th>\n",
              "      <th>symmetry_mean</th>\n",
              "      <th>...</th>\n",
              "      <th>radius_worst</th>\n",
              "      <th>texture_worst</th>\n",
              "      <th>perimeter_worst</th>\n",
              "      <th>area_worst</th>\n",
              "      <th>smoothness_worst</th>\n",
              "      <th>compactness_worst</th>\n",
              "      <th>concavity_worst</th>\n",
              "      <th>concave points_worst</th>\n",
              "      <th>symmetry_worst</th>\n",
              "      <th>fractal_dimension_worst</th>\n",
              "    </tr>\n",
              "  </thead>\n",
              "  <tbody>\n",
              "    <tr>\n",
              "      <th>count</th>\n",
              "      <td>5.690000e+02</td>\n",
              "      <td>569.000000</td>\n",
              "      <td>569.000000</td>\n",
              "      <td>569.000000</td>\n",
              "      <td>569.000000</td>\n",
              "      <td>569.000000</td>\n",
              "      <td>569.000000</td>\n",
              "      <td>569.000000</td>\n",
              "      <td>569.000000</td>\n",
              "      <td>569.000000</td>\n",
              "      <td>...</td>\n",
              "      <td>569.000000</td>\n",
              "      <td>569.000000</td>\n",
              "      <td>569.000000</td>\n",
              "      <td>569.000000</td>\n",
              "      <td>569.000000</td>\n",
              "      <td>569.000000</td>\n",
              "      <td>569.000000</td>\n",
              "      <td>569.000000</td>\n",
              "      <td>569.000000</td>\n",
              "      <td>569.000000</td>\n",
              "    </tr>\n",
              "    <tr>\n",
              "      <th>mean</th>\n",
              "      <td>3.037183e+07</td>\n",
              "      <td>14.127292</td>\n",
              "      <td>19.289649</td>\n",
              "      <td>91.969033</td>\n",
              "      <td>654.889104</td>\n",
              "      <td>0.096360</td>\n",
              "      <td>0.104341</td>\n",
              "      <td>0.088799</td>\n",
              "      <td>0.048919</td>\n",
              "      <td>0.181162</td>\n",
              "      <td>...</td>\n",
              "      <td>16.269190</td>\n",
              "      <td>25.677223</td>\n",
              "      <td>107.261213</td>\n",
              "      <td>880.583128</td>\n",
              "      <td>0.132369</td>\n",
              "      <td>0.254265</td>\n",
              "      <td>0.272188</td>\n",
              "      <td>0.114606</td>\n",
              "      <td>0.290076</td>\n",
              "      <td>0.083946</td>\n",
              "    </tr>\n",
              "    <tr>\n",
              "      <th>std</th>\n",
              "      <td>1.250206e+08</td>\n",
              "      <td>3.524049</td>\n",
              "      <td>4.301036</td>\n",
              "      <td>24.298981</td>\n",
              "      <td>351.914129</td>\n",
              "      <td>0.014064</td>\n",
              "      <td>0.052813</td>\n",
              "      <td>0.079720</td>\n",
              "      <td>0.038803</td>\n",
              "      <td>0.027414</td>\n",
              "      <td>...</td>\n",
              "      <td>4.833242</td>\n",
              "      <td>6.146258</td>\n",
              "      <td>33.602542</td>\n",
              "      <td>569.356993</td>\n",
              "      <td>0.022832</td>\n",
              "      <td>0.157336</td>\n",
              "      <td>0.208624</td>\n",
              "      <td>0.065732</td>\n",
              "      <td>0.061867</td>\n",
              "      <td>0.018061</td>\n",
              "    </tr>\n",
              "    <tr>\n",
              "      <th>min</th>\n",
              "      <td>8.670000e+03</td>\n",
              "      <td>6.981000</td>\n",
              "      <td>9.710000</td>\n",
              "      <td>43.790000</td>\n",
              "      <td>143.500000</td>\n",
              "      <td>0.052630</td>\n",
              "      <td>0.019380</td>\n",
              "      <td>0.000000</td>\n",
              "      <td>0.000000</td>\n",
              "      <td>0.106000</td>\n",
              "      <td>...</td>\n",
              "      <td>7.930000</td>\n",
              "      <td>12.020000</td>\n",
              "      <td>50.410000</td>\n",
              "      <td>185.200000</td>\n",
              "      <td>0.071170</td>\n",
              "      <td>0.027290</td>\n",
              "      <td>0.000000</td>\n",
              "      <td>0.000000</td>\n",
              "      <td>0.156500</td>\n",
              "      <td>0.055040</td>\n",
              "    </tr>\n",
              "    <tr>\n",
              "      <th>25%</th>\n",
              "      <td>8.692180e+05</td>\n",
              "      <td>11.700000</td>\n",
              "      <td>16.170000</td>\n",
              "      <td>75.170000</td>\n",
              "      <td>420.300000</td>\n",
              "      <td>0.086370</td>\n",
              "      <td>0.064920</td>\n",
              "      <td>0.029560</td>\n",
              "      <td>0.020310</td>\n",
              "      <td>0.161900</td>\n",
              "      <td>...</td>\n",
              "      <td>13.010000</td>\n",
              "      <td>21.080000</td>\n",
              "      <td>84.110000</td>\n",
              "      <td>515.300000</td>\n",
              "      <td>0.116600</td>\n",
              "      <td>0.147200</td>\n",
              "      <td>0.114500</td>\n",
              "      <td>0.064930</td>\n",
              "      <td>0.250400</td>\n",
              "      <td>0.071460</td>\n",
              "    </tr>\n",
              "    <tr>\n",
              "      <th>50%</th>\n",
              "      <td>9.060240e+05</td>\n",
              "      <td>13.370000</td>\n",
              "      <td>18.840000</td>\n",
              "      <td>86.240000</td>\n",
              "      <td>551.100000</td>\n",
              "      <td>0.095870</td>\n",
              "      <td>0.092630</td>\n",
              "      <td>0.061540</td>\n",
              "      <td>0.033500</td>\n",
              "      <td>0.179200</td>\n",
              "      <td>...</td>\n",
              "      <td>14.970000</td>\n",
              "      <td>25.410000</td>\n",
              "      <td>97.660000</td>\n",
              "      <td>686.500000</td>\n",
              "      <td>0.131300</td>\n",
              "      <td>0.211900</td>\n",
              "      <td>0.226700</td>\n",
              "      <td>0.099930</td>\n",
              "      <td>0.282200</td>\n",
              "      <td>0.080040</td>\n",
              "    </tr>\n",
              "    <tr>\n",
              "      <th>75%</th>\n",
              "      <td>8.813129e+06</td>\n",
              "      <td>15.780000</td>\n",
              "      <td>21.800000</td>\n",
              "      <td>104.100000</td>\n",
              "      <td>782.700000</td>\n",
              "      <td>0.105300</td>\n",
              "      <td>0.130400</td>\n",
              "      <td>0.130700</td>\n",
              "      <td>0.074000</td>\n",
              "      <td>0.195700</td>\n",
              "      <td>...</td>\n",
              "      <td>18.790000</td>\n",
              "      <td>29.720000</td>\n",
              "      <td>125.400000</td>\n",
              "      <td>1084.000000</td>\n",
              "      <td>0.146000</td>\n",
              "      <td>0.339100</td>\n",
              "      <td>0.382900</td>\n",
              "      <td>0.161400</td>\n",
              "      <td>0.317900</td>\n",
              "      <td>0.092080</td>\n",
              "    </tr>\n",
              "    <tr>\n",
              "      <th>max</th>\n",
              "      <td>9.113205e+08</td>\n",
              "      <td>28.110000</td>\n",
              "      <td>39.280000</td>\n",
              "      <td>188.500000</td>\n",
              "      <td>2501.000000</td>\n",
              "      <td>0.163400</td>\n",
              "      <td>0.345400</td>\n",
              "      <td>0.426800</td>\n",
              "      <td>0.201200</td>\n",
              "      <td>0.304000</td>\n",
              "      <td>...</td>\n",
              "      <td>36.040000</td>\n",
              "      <td>49.540000</td>\n",
              "      <td>251.200000</td>\n",
              "      <td>4254.000000</td>\n",
              "      <td>0.222600</td>\n",
              "      <td>1.058000</td>\n",
              "      <td>1.252000</td>\n",
              "      <td>0.291000</td>\n",
              "      <td>0.663800</td>\n",
              "      <td>0.207500</td>\n",
              "    </tr>\n",
              "  </tbody>\n",
              "</table>\n",
              "<p>8 rows × 31 columns</p>\n",
              "</div>\n",
              "      <button class=\"colab-df-convert\" onclick=\"convertToInteractive('df-cb634460-2189-4cfe-812f-0cefadcb7409')\"\n",
              "              title=\"Convert this dataframe to an interactive table.\"\n",
              "              style=\"display:none;\">\n",
              "        \n",
              "  <svg xmlns=\"http://www.w3.org/2000/svg\" height=\"24px\"viewBox=\"0 0 24 24\"\n",
              "       width=\"24px\">\n",
              "    <path d=\"M0 0h24v24H0V0z\" fill=\"none\"/>\n",
              "    <path d=\"M18.56 5.44l.94 2.06.94-2.06 2.06-.94-2.06-.94-.94-2.06-.94 2.06-2.06.94zm-11 1L8.5 8.5l.94-2.06 2.06-.94-2.06-.94L8.5 2.5l-.94 2.06-2.06.94zm10 10l.94 2.06.94-2.06 2.06-.94-2.06-.94-.94-2.06-.94 2.06-2.06.94z\"/><path d=\"M17.41 7.96l-1.37-1.37c-.4-.4-.92-.59-1.43-.59-.52 0-1.04.2-1.43.59L10.3 9.45l-7.72 7.72c-.78.78-.78 2.05 0 2.83L4 21.41c.39.39.9.59 1.41.59.51 0 1.02-.2 1.41-.59l7.78-7.78 2.81-2.81c.8-.78.8-2.07 0-2.86zM5.41 20L4 18.59l7.72-7.72 1.47 1.35L5.41 20z\"/>\n",
              "  </svg>\n",
              "      </button>\n",
              "      \n",
              "  <style>\n",
              "    .colab-df-container {\n",
              "      display:flex;\n",
              "      flex-wrap:wrap;\n",
              "      gap: 12px;\n",
              "    }\n",
              "\n",
              "    .colab-df-convert {\n",
              "      background-color: #E8F0FE;\n",
              "      border: none;\n",
              "      border-radius: 50%;\n",
              "      cursor: pointer;\n",
              "      display: none;\n",
              "      fill: #1967D2;\n",
              "      height: 32px;\n",
              "      padding: 0 0 0 0;\n",
              "      width: 32px;\n",
              "    }\n",
              "\n",
              "    .colab-df-convert:hover {\n",
              "      background-color: #E2EBFA;\n",
              "      box-shadow: 0px 1px 2px rgba(60, 64, 67, 0.3), 0px 1px 3px 1px rgba(60, 64, 67, 0.15);\n",
              "      fill: #174EA6;\n",
              "    }\n",
              "\n",
              "    [theme=dark] .colab-df-convert {\n",
              "      background-color: #3B4455;\n",
              "      fill: #D2E3FC;\n",
              "    }\n",
              "\n",
              "    [theme=dark] .colab-df-convert:hover {\n",
              "      background-color: #434B5C;\n",
              "      box-shadow: 0px 1px 3px 1px rgba(0, 0, 0, 0.15);\n",
              "      filter: drop-shadow(0px 1px 2px rgba(0, 0, 0, 0.3));\n",
              "      fill: #FFFFFF;\n",
              "    }\n",
              "  </style>\n",
              "\n",
              "      <script>\n",
              "        const buttonEl =\n",
              "          document.querySelector('#df-cb634460-2189-4cfe-812f-0cefadcb7409 button.colab-df-convert');\n",
              "        buttonEl.style.display =\n",
              "          google.colab.kernel.accessAllowed ? 'block' : 'none';\n",
              "\n",
              "        async function convertToInteractive(key) {\n",
              "          const element = document.querySelector('#df-cb634460-2189-4cfe-812f-0cefadcb7409');\n",
              "          const dataTable =\n",
              "            await google.colab.kernel.invokeFunction('convertToInteractive',\n",
              "                                                     [key], {});\n",
              "          if (!dataTable) return;\n",
              "\n",
              "          const docLinkHtml = 'Like what you see? Visit the ' +\n",
              "            '<a target=\"_blank\" href=https://colab.research.google.com/notebooks/data_table.ipynb>data table notebook</a>'\n",
              "            + ' to learn more about interactive tables.';\n",
              "          element.innerHTML = '';\n",
              "          dataTable['output_type'] = 'display_data';\n",
              "          await google.colab.output.renderOutput(dataTable, element);\n",
              "          const docLink = document.createElement('div');\n",
              "          docLink.innerHTML = docLinkHtml;\n",
              "          element.appendChild(docLink);\n",
              "        }\n",
              "      </script>\n",
              "    </div>\n",
              "  </div>\n",
              "  "
            ]
          },
          "metadata": {},
          "execution_count": 9
        }
      ],
      "source": [
        "data.describe()"
      ]
    },
    {
      "cell_type": "markdown",
      "metadata": {
        "id": "rnfaAbu3QhLC"
      },
      "source": [
        "## Categorical Features: Descriptive Statistics"
      ]
    },
    {
      "cell_type": "code",
      "execution_count": 10,
      "metadata": {
        "colab": {
          "base_uri": "https://localhost:8080/",
          "height": 174
        },
        "id": "Am9QkufwPcmw",
        "outputId": "815e9901-b935-4e9b-a5dc-e8d7872e64da"
      },
      "outputs": [
        {
          "output_type": "execute_result",
          "data": {
            "text/plain": [
              "       diagnosis\n",
              "count        569\n",
              "unique         2\n",
              "top            B\n",
              "freq         357"
            ],
            "text/html": [
              "\n",
              "  <div id=\"df-6db4a49c-22d6-49c4-bc48-fc165571007b\">\n",
              "    <div class=\"colab-df-container\">\n",
              "      <div>\n",
              "<style scoped>\n",
              "    .dataframe tbody tr th:only-of-type {\n",
              "        vertical-align: middle;\n",
              "    }\n",
              "\n",
              "    .dataframe tbody tr th {\n",
              "        vertical-align: top;\n",
              "    }\n",
              "\n",
              "    .dataframe thead th {\n",
              "        text-align: right;\n",
              "    }\n",
              "</style>\n",
              "<table border=\"1\" class=\"dataframe\">\n",
              "  <thead>\n",
              "    <tr style=\"text-align: right;\">\n",
              "      <th></th>\n",
              "      <th>diagnosis</th>\n",
              "    </tr>\n",
              "  </thead>\n",
              "  <tbody>\n",
              "    <tr>\n",
              "      <th>count</th>\n",
              "      <td>569</td>\n",
              "    </tr>\n",
              "    <tr>\n",
              "      <th>unique</th>\n",
              "      <td>2</td>\n",
              "    </tr>\n",
              "    <tr>\n",
              "      <th>top</th>\n",
              "      <td>B</td>\n",
              "    </tr>\n",
              "    <tr>\n",
              "      <th>freq</th>\n",
              "      <td>357</td>\n",
              "    </tr>\n",
              "  </tbody>\n",
              "</table>\n",
              "</div>\n",
              "      <button class=\"colab-df-convert\" onclick=\"convertToInteractive('df-6db4a49c-22d6-49c4-bc48-fc165571007b')\"\n",
              "              title=\"Convert this dataframe to an interactive table.\"\n",
              "              style=\"display:none;\">\n",
              "        \n",
              "  <svg xmlns=\"http://www.w3.org/2000/svg\" height=\"24px\"viewBox=\"0 0 24 24\"\n",
              "       width=\"24px\">\n",
              "    <path d=\"M0 0h24v24H0V0z\" fill=\"none\"/>\n",
              "    <path d=\"M18.56 5.44l.94 2.06.94-2.06 2.06-.94-2.06-.94-.94-2.06-.94 2.06-2.06.94zm-11 1L8.5 8.5l.94-2.06 2.06-.94-2.06-.94L8.5 2.5l-.94 2.06-2.06.94zm10 10l.94 2.06.94-2.06 2.06-.94-2.06-.94-.94-2.06-.94 2.06-2.06.94z\"/><path d=\"M17.41 7.96l-1.37-1.37c-.4-.4-.92-.59-1.43-.59-.52 0-1.04.2-1.43.59L10.3 9.45l-7.72 7.72c-.78.78-.78 2.05 0 2.83L4 21.41c.39.39.9.59 1.41.59.51 0 1.02-.2 1.41-.59l7.78-7.78 2.81-2.81c.8-.78.8-2.07 0-2.86zM5.41 20L4 18.59l7.72-7.72 1.47 1.35L5.41 20z\"/>\n",
              "  </svg>\n",
              "      </button>\n",
              "      \n",
              "  <style>\n",
              "    .colab-df-container {\n",
              "      display:flex;\n",
              "      flex-wrap:wrap;\n",
              "      gap: 12px;\n",
              "    }\n",
              "\n",
              "    .colab-df-convert {\n",
              "      background-color: #E8F0FE;\n",
              "      border: none;\n",
              "      border-radius: 50%;\n",
              "      cursor: pointer;\n",
              "      display: none;\n",
              "      fill: #1967D2;\n",
              "      height: 32px;\n",
              "      padding: 0 0 0 0;\n",
              "      width: 32px;\n",
              "    }\n",
              "\n",
              "    .colab-df-convert:hover {\n",
              "      background-color: #E2EBFA;\n",
              "      box-shadow: 0px 1px 2px rgba(60, 64, 67, 0.3), 0px 1px 3px 1px rgba(60, 64, 67, 0.15);\n",
              "      fill: #174EA6;\n",
              "    }\n",
              "\n",
              "    [theme=dark] .colab-df-convert {\n",
              "      background-color: #3B4455;\n",
              "      fill: #D2E3FC;\n",
              "    }\n",
              "\n",
              "    [theme=dark] .colab-df-convert:hover {\n",
              "      background-color: #434B5C;\n",
              "      box-shadow: 0px 1px 3px 1px rgba(0, 0, 0, 0.15);\n",
              "      filter: drop-shadow(0px 1px 2px rgba(0, 0, 0, 0.3));\n",
              "      fill: #FFFFFF;\n",
              "    }\n",
              "  </style>\n",
              "\n",
              "      <script>\n",
              "        const buttonEl =\n",
              "          document.querySelector('#df-6db4a49c-22d6-49c4-bc48-fc165571007b button.colab-df-convert');\n",
              "        buttonEl.style.display =\n",
              "          google.colab.kernel.accessAllowed ? 'block' : 'none';\n",
              "\n",
              "        async function convertToInteractive(key) {\n",
              "          const element = document.querySelector('#df-6db4a49c-22d6-49c4-bc48-fc165571007b');\n",
              "          const dataTable =\n",
              "            await google.colab.kernel.invokeFunction('convertToInteractive',\n",
              "                                                     [key], {});\n",
              "          if (!dataTable) return;\n",
              "\n",
              "          const docLinkHtml = 'Like what you see? Visit the ' +\n",
              "            '<a target=\"_blank\" href=https://colab.research.google.com/notebooks/data_table.ipynb>data table notebook</a>'\n",
              "            + ' to learn more about interactive tables.';\n",
              "          element.innerHTML = '';\n",
              "          dataTable['output_type'] = 'display_data';\n",
              "          await google.colab.output.renderOutput(dataTable, element);\n",
              "          const docLink = document.createElement('div');\n",
              "          docLink.innerHTML = docLinkHtml;\n",
              "          element.appendChild(docLink);\n",
              "        }\n",
              "      </script>\n",
              "    </div>\n",
              "  </div>\n",
              "  "
            ]
          },
          "metadata": {},
          "execution_count": 10
        }
      ],
      "source": [
        "data.describe(include = 'O')"
      ]
    },
    {
      "cell_type": "markdown",
      "metadata": {
        "id": "_FbnpQp2ojYF"
      },
      "source": [
        "## Feature Design"
      ]
    },
    {
      "cell_type": "markdown",
      "metadata": {
        "id": "RwWjTdp5DBGy"
      },
      "source": [
        "Getting features that have moderate to high correlation with Diagnosis. Then assigning it to new dataframe.\n"
      ]
    },
    {
      "cell_type": "markdown",
      "metadata": {
        "id": "qmkCuDhJdQ-1"
      },
      "source": [
        "## Data Visualization\n"
      ]
    },
    {
      "cell_type": "markdown",
      "metadata": {
        "id": "xguW-pT1RDW7"
      },
      "source": [
        "We are selecting the mean features, since the other features are highly related."
      ]
    },
    {
      "cell_type": "code",
      "execution_count": 11,
      "metadata": {
        "id": "aO49KXmcwcry"
      },
      "outputs": [],
      "source": [
        "import numpy as np\n",
        "import matplotlib.pyplot as plt\n",
        "import seaborn as sns\n",
        "import plotly.express\n",
        "import seaborn\n",
        "seaborn.set() "
      ]
    },
    {
      "cell_type": "code",
      "execution_count": 12,
      "metadata": {
        "colab": {
          "base_uri": "https://localhost:8080/",
          "height": 301
        },
        "id": "ry4brlBcTGxZ",
        "outputId": "a694cec9-1e7a-4aec-af45-98760adeb09a"
      },
      "outputs": [
        {
          "output_type": "display_data",
          "data": {
            "text/plain": [
              "<Figure size 432x288 with 1 Axes>"
            ],
            "image/png": "[encoded data removed]"
          },
          "metadata": {}
        }
      ],
      "source": [
        "sns.countplot(data,x=\"diagnosis\")\n",
        "\n",
        "plt.xlabel(\"Breast Cancer Diagnosis\")\n",
        "plt.ylabel(\"Count of Benign/Malignant Breast Cancer\")\n",
        "plt.title(\"Total Breast Cancer Diagnosis Counts\")\n",
        "\n",
        "plt.show()"
      ]
    },
    {
      "cell_type": "markdown",
      "metadata": {
        "id": "leO3erHGb2yn"
      },
      "source": [
        "## Feature Scaling"
      ]
    },
    {
      "cell_type": "code",
      "execution_count": 13,
      "metadata": {
        "colab": {
          "base_uri": "https://localhost:8080/",
          "height": 761
        },
        "id": "cmWYZuczTq4c",
        "outputId": "c77214e5-3b33-4858-91ca-cf3fd51732ba"
      },
      "outputs": [
        {
          "output_type": "display_data",
          "data": {
            "text/plain": [
              "<Figure size 1440x1080 with 12 Axes>"
            ],
            "image/png": "[encoded data removed]"
          },
          "metadata": {}
        }
      ],
      "source": [
        "X = data.iloc[:, 2:12]\n",
        "X.hist(figsize=(20, 15));"
      ]
    },
    {
      "cell_type": "markdown",
      "metadata": {
        "id": "5EuRy3fcfPvD"
      },
      "source": [
        "Most of the distributions are right-skewed, which indicates that not all features follow a standard normal distribution (mean=0, variance=1), which would present itself as a bell-shaped curve. Their scales also vary, which may cause features with higher scales/magnitudes  contributing more to the model training process. However, we want to ensure that all features are contributing equally to the model training process.\n",
        "\n",
        "Feature scaling refers to the process of transforming the values of the features to a similar scale. This process is necessary for our SVM model, which is distance-based, so that features with high magnitudes do not dominate the distance calculations. "
      ]
    },
    {
      "cell_type": "code",
      "execution_count": 14,
      "metadata": {
        "id": "4C7pZbAmd2BR"
      },
      "outputs": [],
      "source": [
        "from sklearn_pandas import DataFrameMapper\n",
        "from sklearn.preprocessing import StandardScaler"
      ]
    },
    {
      "cell_type": "code",
      "execution_count": 15,
      "metadata": {
        "colab": {
          "base_uri": "https://localhost:8080/"
        },
        "id": "IyZa-Zqrb79U",
        "outputId": "90a7dacb-c302-4ca6-cb9b-30de1e28074f"
      },
      "outputs": [
        {
          "output_type": "stream",
          "name": "stdout",
          "text": [
            "   radius_mean  texture_mean  perimeter_mean  area_mean  smoothness_mean  \\\n",
            "0     1.097064     -2.073335        1.269934   0.984375         1.568466   \n",
            "1     1.829821     -0.353632        1.685955   1.908708        -0.826962   \n",
            "2     1.579888      0.456187        1.566503   1.558884         0.942210   \n",
            "3    -0.768909      0.253732       -0.592687  -0.764464         3.283553   \n",
            "4     1.750297     -1.151816        1.776573   1.826229         0.280372   \n",
            "\n",
            "   compactness_mean  concavity_mean  concave points_mean  symmetry_mean  \\\n",
            "0          3.283515        2.652874             2.532475       2.217515   \n",
            "1         -0.487072       -0.023846             0.548144       0.001392   \n",
            "2          1.052926        1.363478             2.037231       0.939685   \n",
            "3          3.402909        1.915897             1.451707       2.867383   \n",
            "4          0.539340        1.371011             1.428493      -0.009560   \n",
            "\n",
            "   fractal_dimension_mean  \n",
            "0                2.255747  \n",
            "1               -0.868652  \n",
            "2               -0.398008  \n",
            "3                4.910919  \n",
            "4               -0.562450  \n"
          ]
        }
      ],
      "source": [
        "mean_data = data.iloc[:, 2:12] # Each observation has 10 means corresponding to 10 main features (i.e. radius, texture, smoothness, etc.)\n",
        "\n",
        "# STANDARDIZING MEAN\n",
        "mapper = DataFrameMapper([(mean_data.columns, StandardScaler())])\n",
        "scaled_features = mapper.fit_transform(mean_data.copy(), 10)\n",
        "scaled_features_df = pd.DataFrame(scaled_features, index=mean_data.index, columns=mean_data.columns)\n",
        "\n",
        "print(scaled_features_df.head(5))   "
      ]
    },
    {
      "cell_type": "code",
      "execution_count": 16,
      "metadata": {
        "colab": {
          "base_uri": "https://localhost:8080/",
          "height": 762
        },
        "id": "ipqjIpVGSonZ",
        "outputId": "ca066ad8-2c78-434a-9c6d-243936c15a14"
      },
      "outputs": [
        {
          "output_type": "display_data",
          "data": {
            "text/plain": [
              "<Figure size 1440x1080 with 12 Axes>"
            ],
            "image/png": "[encoded data removed]"
          },
          "metadata": {}
        }
      ],
      "source": [
        "scaled_features_df.hist(figsize=(20, 15));"
      ]
    },
    {
      "cell_type": "code",
      "execution_count": 17,
      "metadata": {
        "colab": {
          "base_uri": "https://localhost:8080/",
          "height": 505
        },
        "id": "g8Rs2eOnb1i7",
        "outputId": "84a1e645-28d8-41b9-ed72-090fea2c9e09"
      },
      "outputs": [
        {
          "output_type": "execute_result",
          "data": {
            "text/plain": [
              "           id diagnosis  radius_mean  texture_mean  perimeter_mean  area_mean  \\\n",
              "0      842302         M     1.097064     -2.073335        1.269934   0.984375   \n",
              "1      842517         M     1.829821     -0.353632        1.685955   1.908708   \n",
              "2    84300903         M     1.579888      0.456187        1.566503   1.558884   \n",
              "3    84348301         M    -0.768909      0.253732       -0.592687  -0.764464   \n",
              "4    84358402         M     1.750297     -1.151816        1.776573   1.826229   \n",
              "..        ...       ...          ...           ...             ...        ...   \n",
              "564    926424         M     2.110995      0.721473        2.060786   2.343856   \n",
              "565    926682         M     1.704854      2.085134        1.615931   1.723842   \n",
              "566    926954         M     0.702284      2.045574        0.672676   0.577953   \n",
              "567    927241         M     1.838341      2.336457        1.982524   1.735218   \n",
              "568     92751         B    -1.808401      1.221792       -1.814389  -1.347789   \n",
              "\n",
              "     smoothness_mean  compactness_mean  concavity_mean  concave points_mean  \\\n",
              "0           1.568466          3.283515        2.652874             2.532475   \n",
              "1          -0.826962         -0.487072       -0.023846             0.548144   \n",
              "2           0.942210          1.052926        1.363478             2.037231   \n",
              "3           3.283553          3.402909        1.915897             1.451707   \n",
              "4           0.280372          0.539340        1.371011             1.428493   \n",
              "..               ...               ...             ...                  ...   \n",
              "564         1.041842          0.219060        1.947285             2.320965   \n",
              "565         0.102458         -0.017833        0.693043             1.263669   \n",
              "566        -0.840484         -0.038680        0.046588             0.105777   \n",
              "567         1.525767          3.272144        3.296944             2.658866   \n",
              "568        -3.112085         -1.150752       -1.114873            -1.261820   \n",
              "\n",
              "     symmetry_mean  fractal_dimension_mean  \n",
              "0         2.217515                2.255747  \n",
              "1         0.001392               -0.868652  \n",
              "2         0.939685               -0.398008  \n",
              "3         2.867383                4.910919  \n",
              "4        -0.009560               -0.562450  \n",
              "..             ...                     ...  \n",
              "564      -0.312589               -0.931027  \n",
              "565      -0.217664               -1.058611  \n",
              "566      -0.809117               -0.895587  \n",
              "567       2.137194                1.043695  \n",
              "568      -0.820070               -0.561032  \n",
              "\n",
              "[569 rows x 12 columns]"
            ],
            "text/html": [
              "\n",
              "  <div id=\"df-25495bbe-814c-4d4b-a9bb-02978dfd19df\">\n",
              "    <div class=\"colab-df-container\">\n",
              "      <div>\n",
              "<style scoped>\n",
              "    .dataframe tbody tr th:only-of-type {\n",
              "        vertical-align: middle;\n",
              "    }\n",
              "\n",
              "    .dataframe tbody tr th {\n",
              "        vertical-align: top;\n",
              "    }\n",
              "\n",
              "    .dataframe thead th {\n",
              "        text-align: right;\n",
              "    }\n",
              "</style>\n",
              "<table border=\"1\" class=\"dataframe\">\n",
              "  <thead>\n",
              "    <tr style=\"text-align: right;\">\n",
              "      <th></th>\n",
              "      <th>id</th>\n",
              "      <th>diagnosis</th>\n",
              "      <th>radius_mean</th>\n",
              "      <th>texture_mean</th>\n",
              "      <th>perimeter_mean</th>\n",
              "      <th>area_mean</th>\n",
              "      <th>smoothness_mean</th>\n",
              "      <th>compactness_mean</th>\n",
              "      <th>concavity_mean</th>\n",
              "      <th>concave points_mean</th>\n",
              "      <th>symmetry_mean</th>\n",
              "      <th>fractal_dimension_mean</th>\n",
              "    </tr>\n",
              "  </thead>\n",
              "  <tbody>\n",
              "    <tr>\n",
              "      <th>0</th>\n",
              "      <td>842302</td>\n",
              "      <td>M</td>\n",
              "      <td>1.097064</td>\n",
              "      <td>-2.073335</td>\n",
              "      <td>1.269934</td>\n",
              "      <td>0.984375</td>\n",
              "      <td>1.568466</td>\n",
              "      <td>3.283515</td>\n",
              "      <td>2.652874</td>\n",
              "      <td>2.532475</td>\n",
              "      <td>2.217515</td>\n",
              "      <td>2.255747</td>\n",
              "    </tr>\n",
              "    <tr>\n",
              "      <th>1</th>\n",
              "      <td>842517</td>\n",
              "      <td>M</td>\n",
              "      <td>1.829821</td>\n",
              "      <td>-0.353632</td>\n",
              "      <td>1.685955</td>\n",
              "      <td>1.908708</td>\n",
              "      <td>-0.826962</td>\n",
              "      <td>-0.487072</td>\n",
              "      <td>-0.023846</td>\n",
              "      <td>0.548144</td>\n",
              "      <td>0.001392</td>\n",
              "      <td>-0.868652</td>\n",
              "    </tr>\n",
              "    <tr>\n",
              "      <th>2</th>\n",
              "      <td>84300903</td>\n",
              "      <td>M</td>\n",
              "      <td>1.579888</td>\n",
              "      <td>0.456187</td>\n",
              "      <td>1.566503</td>\n",
              "      <td>1.558884</td>\n",
              "      <td>0.942210</td>\n",
              "      <td>1.052926</td>\n",
              "      <td>1.363478</td>\n",
              "      <td>2.037231</td>\n",
              "      <td>0.939685</td>\n",
              "      <td>-0.398008</td>\n",
              "    </tr>\n",
              "    <tr>\n",
              "      <th>3</th>\n",
              "      <td>84348301</td>\n",
              "      <td>M</td>\n",
              "      <td>-0.768909</td>\n",
              "      <td>0.253732</td>\n",
              "      <td>-0.592687</td>\n",
              "      <td>-0.764464</td>\n",
              "      <td>3.283553</td>\n",
              "      <td>3.402909</td>\n",
              "      <td>1.915897</td>\n",
              "      <td>1.451707</td>\n",
              "      <td>2.867383</td>\n",
              "      <td>4.910919</td>\n",
              "    </tr>\n",
              "    <tr>\n",
              "      <th>4</th>\n",
              "      <td>84358402</td>\n",
              "      <td>M</td>\n",
              "      <td>1.750297</td>\n",
              "      <td>-1.151816</td>\n",
              "      <td>1.776573</td>\n",
              "      <td>1.826229</td>\n",
              "      <td>0.280372</td>\n",
              "      <td>0.539340</td>\n",
              "      <td>1.371011</td>\n",
              "      <td>1.428493</td>\n",
              "      <td>-0.009560</td>\n",
              "      <td>-0.562450</td>\n",
              "    </tr>\n",
              "    <tr>\n",
              "      <th>...</th>\n",
              "      <td>...</td>\n",
              "      <td>...</td>\n",
              "      <td>...</td>\n",
              "      <td>...</td>\n",
              "      <td>...</td>\n",
              "      <td>...</td>\n",
              "      <td>...</td>\n",
              "      <td>...</td>\n",
              "      <td>...</td>\n",
              "      <td>...</td>\n",
              "      <td>...</td>\n",
              "      <td>...</td>\n",
              "    </tr>\n",
              "    <tr>\n",
              "      <th>564</th>\n",
              "      <td>926424</td>\n",
              "      <td>M</td>\n",
              "      <td>2.110995</td>\n",
              "      <td>0.721473</td>\n",
              "      <td>2.060786</td>\n",
              "      <td>2.343856</td>\n",
              "      <td>1.041842</td>\n",
              "      <td>0.219060</td>\n",
              "      <td>1.947285</td>\n",
              "      <td>2.320965</td>\n",
              "      <td>-0.312589</td>\n",
              "      <td>-0.931027</td>\n",
              "    </tr>\n",
              "    <tr>\n",
              "      <th>565</th>\n",
              "      <td>926682</td>\n",
              "      <td>M</td>\n",
              "      <td>1.704854</td>\n",
              "      <td>2.085134</td>\n",
              "      <td>1.615931</td>\n",
              "      <td>1.723842</td>\n",
              "      <td>0.102458</td>\n",
              "      <td>-0.017833</td>\n",
              "      <td>0.693043</td>\n",
              "      <td>1.263669</td>\n",
              "      <td>-0.217664</td>\n",
              "      <td>-1.058611</td>\n",
              "    </tr>\n",
              "    <tr>\n",
              "      <th>566</th>\n",
              "      <td>926954</td>\n",
              "      <td>M</td>\n",
              "      <td>0.702284</td>\n",
              "      <td>2.045574</td>\n",
              "      <td>0.672676</td>\n",
              "      <td>0.577953</td>\n",
              "      <td>-0.840484</td>\n",
              "      <td>-0.038680</td>\n",
              "      <td>0.046588</td>\n",
              "      <td>0.105777</td>\n",
              "      <td>-0.809117</td>\n",
              "      <td>-0.895587</td>\n",
              "    </tr>\n",
              "    <tr>\n",
              "      <th>567</th>\n",
              "      <td>927241</td>\n",
              "      <td>M</td>\n",
              "      <td>1.838341</td>\n",
              "      <td>2.336457</td>\n",
              "      <td>1.982524</td>\n",
              "      <td>1.735218</td>\n",
              "      <td>1.525767</td>\n",
              "      <td>3.272144</td>\n",
              "      <td>3.296944</td>\n",
              "      <td>2.658866</td>\n",
              "      <td>2.137194</td>\n",
              "      <td>1.043695</td>\n",
              "    </tr>\n",
              "    <tr>\n",
              "      <th>568</th>\n",
              "      <td>92751</td>\n",
              "      <td>B</td>\n",
              "      <td>-1.808401</td>\n",
              "      <td>1.221792</td>\n",
              "      <td>-1.814389</td>\n",
              "      <td>-1.347789</td>\n",
              "      <td>-3.112085</td>\n",
              "      <td>-1.150752</td>\n",
              "      <td>-1.114873</td>\n",
              "      <td>-1.261820</td>\n",
              "      <td>-0.820070</td>\n",
              "      <td>-0.561032</td>\n",
              "    </tr>\n",
              "  </tbody>\n",
              "</table>\n",
              "<p>569 rows × 12 columns</p>\n",
              "</div>\n",
              "      <button class=\"colab-df-convert\" onclick=\"convertToInteractive('df-25495bbe-814c-4d4b-a9bb-02978dfd19df')\"\n",
              "              title=\"Convert this dataframe to an interactive table.\"\n",
              "              style=\"display:none;\">\n",
              "        \n",
              "  <svg xmlns=\"http://www.w3.org/2000/svg\" height=\"24px\"viewBox=\"0 0 24 24\"\n",
              "       width=\"24px\">\n",
              "    <path d=\"M0 0h24v24H0V0z\" fill=\"none\"/>\n",
              "    <path d=\"M18.56 5.44l.94 2.06.94-2.06 2.06-.94-2.06-.94-.94-2.06-.94 2.06-2.06.94zm-11 1L8.5 8.5l.94-2.06 2.06-.94-2.06-.94L8.5 2.5l-.94 2.06-2.06.94zm10 10l.94 2.06.94-2.06 2.06-.94-2.06-.94-.94-2.06-.94 2.06-2.06.94z\"/><path d=\"M17.41 7.96l-1.37-1.37c-.4-.4-.92-.59-1.43-.59-.52 0-1.04.2-1.43.59L10.3 9.45l-7.72 7.72c-.78.78-.78 2.05 0 2.83L4 21.41c.39.39.9.59 1.41.59.51 0 1.02-.2 1.41-.59l7.78-7.78 2.81-2.81c.8-.78.8-2.07 0-2.86zM5.41 20L4 18.59l7.72-7.72 1.47 1.35L5.41 20z\"/>\n",
              "  </svg>\n",
              "      </button>\n",
              "      \n",
              "  <style>\n",
              "    .colab-df-container {\n",
              "      display:flex;\n",
              "      flex-wrap:wrap;\n",
              "      gap: 12px;\n",
              "    }\n",
              "\n",
              "    .colab-df-convert {\n",
              "      background-color: #E8F0FE;\n",
              "      border: none;\n",
              "      border-radius: 50%;\n",
              "      cursor: pointer;\n",
              "      display: none;\n",
              "      fill: #1967D2;\n",
              "      height: 32px;\n",
              "      padding: 0 0 0 0;\n",
              "      width: 32px;\n",
              "    }\n",
              "\n",
              "    .colab-df-convert:hover {\n",
              "      background-color: #E2EBFA;\n",
              "      box-shadow: 0px 1px 2px rgba(60, 64, 67, 0.3), 0px 1px 3px 1px rgba(60, 64, 67, 0.15);\n",
              "      fill: #174EA6;\n",
              "    }\n",
              "\n",
              "    [theme=dark] .colab-df-convert {\n",
              "      background-color: #3B4455;\n",
              "      fill: #D2E3FC;\n",
              "    }\n",
              "\n",
              "    [theme=dark] .colab-df-convert:hover {\n",
              "      background-color: #434B5C;\n",
              "      box-shadow: 0px 1px 3px 1px rgba(0, 0, 0, 0.15);\n",
              "      filter: drop-shadow(0px 1px 2px rgba(0, 0, 0, 0.3));\n",
              "      fill: #FFFFFF;\n",
              "    }\n",
              "  </style>\n",
              "\n",
              "      <script>\n",
              "        const buttonEl =\n",
              "          document.querySelector('#df-25495bbe-814c-4d4b-a9bb-02978dfd19df button.colab-df-convert');\n",
              "        buttonEl.style.display =\n",
              "          google.colab.kernel.accessAllowed ? 'block' : 'none';\n",
              "\n",
              "        async function convertToInteractive(key) {\n",
              "          const element = document.querySelector('#df-25495bbe-814c-4d4b-a9bb-02978dfd19df');\n",
              "          const dataTable =\n",
              "            await google.colab.kernel.invokeFunction('convertToInteractive',\n",
              "                                                     [key], {});\n",
              "          if (!dataTable) return;\n",
              "\n",
              "          const docLinkHtml = 'Like what you see? Visit the ' +\n",
              "            '<a target=\"_blank\" href=https://colab.research.google.com/notebooks/data_table.ipynb>data table notebook</a>'\n",
              "            + ' to learn more about interactive tables.';\n",
              "          element.innerHTML = '';\n",
              "          dataTable['output_type'] = 'display_data';\n",
              "          await google.colab.output.renderOutput(dataTable, element);\n",
              "          const docLink = document.createElement('div');\n",
              "          docLink.innerHTML = docLinkHtml;\n",
              "          element.appendChild(docLink);\n",
              "        }\n",
              "      </script>\n",
              "    </div>\n",
              "  </div>\n",
              "  "
            ]
          },
          "metadata": {},
          "execution_count": 17
        }
      ],
      "source": [
        "scaled_features_df  = pd.concat([data.iloc[:,0:2], scaled_features_df.iloc[:,:]], axis=1) # concatenate id, diagnosis with standardized means\n",
        "scaled_features_df"
      ]
    },
    {
      "cell_type": "code",
      "execution_count": 18,
      "metadata": {
        "colab": {
          "base_uri": "https://localhost:8080/",
          "height": 413
        },
        "id": "TeOo3jwb_E8t",
        "outputId": "0daf7410-b9f0-4b23-d5e3-4e6b2585c849"
      },
      "outputs": [
        {
          "output_type": "display_data",
          "data": {
            "text/plain": [
              "<Figure size 1800x720 with 10 Axes>"
            ],
            "image/png": "[encoded data removed]"
          },
          "metadata": {}
        }
      ],
      "source": [
        "# Convert Standardized Data Frame from Wide Format to Long Format\n",
        "data_melt = pd.melt(scaled_features_df, id_vars = [\"id\", \"diagnosis\"], var_name = \"features\", value_name = \"std_mean\")\n",
        "data_melt.head(5)\n",
        "\n",
        "\n",
        "# Boxplot for Each Main Feature Mean (i.e. radius_mean, texture_mean, smoothness_mean, etc.)\n",
        "g = sns.catplot(data= data_melt, x = 'diagnosis', y = 'std_mean', col = 'features', kind = 'box', col_wrap = 5)  "
      ]
    },
    {
      "cell_type": "markdown",
      "source": [
        "After feature scaling using standardization, each boxplot of the mean features are scaled to have zero mean and unit variance, mitigating the effects of features with extreme values, which can affect the model's performance."
      ],
      "metadata": {
        "id": "iK3VOTn-pFKl"
      }
    },
    {
      "cell_type": "code",
      "execution_count": null,
      "metadata": {
        "id": "8Y-5VtNuxfmO"
      },
      "outputs": [],
      "source": [
        "temp = pd.concat([data.iloc[:,1], mean_data.iloc[:,:]], axis=1)\n",
        "sns.pairplot(temp, hue=\"diagnosis\")\n",
        "plt.plot()"
      ]
    },
    {
      "cell_type": "markdown",
      "source": [
        "From the pairplot, strong linear positive correlations are seen between the features, such as perimeter mean and radius mean, suggesting that the model can be affected negatively. There may be overfitting, unstable or inaccurate model coefficients, and become more difficult to interpret feature importance. \n",
        "\n",
        "To counter this, SVM will include principle component analysis, which can mitigate issues by utilizing dimensionality reduction, improving our performance accuracy and generalization when comparing our model to the test data. Since the data is relatively small, PCA is not necessarily needed, but is good practice. "
      ],
      "metadata": {
        "id": "_qUYIqIHsM7p"
      }
    },
    {
      "cell_type": "code",
      "execution_count": null,
      "metadata": {
        "id": "a0oIINXFavpV"
      },
      "outputs": [],
      "source": [
        "plt.figure(figsize=(12, 9))\n",
        "\n",
        "plt.title(\"Correlation Graph\")\n",
        "cols = list(mean_data.columns)\n",
        "# print(cols)\n",
        "\n",
        "sns.heatmap(data[cols].corr(), annot=True);"
      ]
    },
    {
      "cell_type": "markdown",
      "source": [
        "From the heatmap, we can also view strong correlations between variables, suggesting multicollinearity."
      ],
      "metadata": {
        "id": "ipXU1MH2CPzB"
      }
    },
    {
      "cell_type": "markdown",
      "source": [
        "## Feature Design"
      ],
      "metadata": {
        "id": "VCc6W3S_7Qjq"
      }
    },
    {
      "cell_type": "markdown",
      "source": [
        "We will transform categorical diagnosis features into 0/1 to prepare for classification modeling."
      ],
      "metadata": {
        "id": "ggoKzVEg7Lt-"
      }
    },
    {
      "cell_type": "code",
      "source": [
        "from sklearn import preprocessing\n",
        "label_encoder= preprocessing.LabelEncoder()\n",
        "data['diagnosis'] = label_encoder.fit_transform(data['diagnosis']) \n",
        "data['diagnosis'].head()\n",
        "\n",
        "# Reassign Numerical Labels to Diagnosis Column\n",
        "data['diagnosis']= label_encoder.fit_transform(data['diagnosis'])\n",
        "\n",
        "data['diagnosis'].value_counts()\n",
        "\n",
        "#scaled_features_df"
      ],
      "metadata": {
        "id": "Khiuan2P7L8k"
      },
      "execution_count": null,
      "outputs": []
    },
    {
      "cell_type": "markdown",
      "metadata": {
        "id": "uLt5JM8ifzal"
      },
      "source": [
        "## Model Exploration"
      ]
    },
    {
      "cell_type": "code",
      "execution_count": null,
      "metadata": {
        "id": "F4Ud0lyZwpXO"
      },
      "outputs": [],
      "source": [
        "from sklearn.model_selection import train_test_split\n",
        "\n",
        "# Split the data to train and test the model (.8,.2) --> 80% assigned to train, 20% assigned to validate/test\n",
        "mean_features = data.iloc[:, 1:12]\n",
        "\n",
        "X = mean_features.drop(['diagnosis'], axis=1)\n",
        "Y = mean_features['diagnosis']\n",
        "\n",
        "Xtr, Xva, Ytr, Yva = train_test_split(X, Y, test_size = 0.2, random_state=10)"
      ]
    },
    {
      "cell_type": "markdown",
      "metadata": {
        "id": "PZ5wFpxcZVXa"
      },
      "source": [
        "## SVM"
      ]
    },
    {
      "cell_type": "markdown",
      "source": [
        "Spliting once into test and train, but better if test,train,val\n",
        "\n",
        "We only split data into test and train set as the cross-validation strategy is used to estimate the model's performance on new, unseen data and select the best hyperparameters when we train with SVC (default 5-K Fold cross validation). "
      ],
      "metadata": {
        "id": "mT1Juuo0IMvf"
      }
    },
    {
      "cell_type": "markdown",
      "source": [
        "####Data Preprocessing"
      ],
      "metadata": {
        "id": "Yet92xgrrsY-"
      }
    },
    {
      "cell_type": "code",
      "execution_count": null,
      "metadata": {
        "id": "KsOnDDQhyPMW"
      },
      "outputs": [],
      "source": [
        "from sklearn import svm\n",
        "from sklearn import metrics\n",
        "from sklearn.preprocessing import StandardScaler"
      ]
    },
    {
      "cell_type": "markdown",
      "metadata": {
        "id": "Cx9WRkDYeMtK"
      },
      "source": [
        "####Feature Scaling for SVM"
      ]
    },
    {
      "cell_type": "code",
      "execution_count": null,
      "metadata": {
        "id": "8ljKkH1feLgm"
      },
      "outputs": [],
      "source": [
        "# Perform feature scaling on the training data . Train the machine learning model on the scaled training data.\n",
        "scaler = StandardScaler()  \n",
        "Xtr =  scaler.fit_transform(Xtr)\n",
        "\n",
        "# Use the same scaling transformation to transform the testing data.\n",
        "Xva = scaler.transform(Xva)\n",
        "# Evaluate the performance of the model on the scaled testing data."
      ]
    },
    {
      "cell_type": "markdown",
      "source": [
        "####Model"
      ],
      "metadata": {
        "id": "6uAhyqK2viVb"
      }
    },
    {
      "cell_type": "markdown",
      "source": [
        "Our model will include a soft margin classifier, since we want more robustness in regards to outliers and handle possible non-linear separable data. "
      ],
      "metadata": {
        "id": "VUmRXv7Evl5P"
      }
    },
    {
      "cell_type": "markdown",
      "source": [
        "Here, choosing linear kernel SVM for linearly separable data first, seeing that the training set is very large/has plenty of features. We will utilize the hinge loss function with the linear kernel svm for regularization."
      ],
      "metadata": {
        "id": "5O_df8aQzSIJ"
      }
    },
    {
      "cell_type": "code",
      "execution_count": null,
      "metadata": {
        "id": "hCSQSjAni_bO"
      },
      "outputs": [],
      "source": [
        "from sklearn.metrics import classification_report, confusion_matrix\n",
        "from sklearn.metrics import recall_score\n",
        "from sklearn.metrics import precision_score\n",
        "from sklearn.metrics import confusion_matrix\n",
        "from sklearn.metrics import accuracy_score\n",
        "from sklearn.svm import SVC\n",
        "\n",
        "from sklearn.svm import LinearSVC\n",
        "\n",
        "cancer = svm.SVC(kernel='linear', class_weight='balanced', C = 0.05) # Linear Kernel w/ parameter\n",
        "#Train model\n",
        "cancer.fit(Xtr, Ytr)\n",
        "\n",
        "#Predict response \n",
        "Y_pred_train = cancer.predict(Xtr)\n",
        "Y_pred_test = cancer.predict(Xva)\n",
        "\n",
        "# Model Accuracy\n",
        "train_score = metrics.accuracy_score(Ytr, Y_pred_train)*100\n",
        "test_score = metrics.accuracy_score(Yva, Y_pred_test)*100\n",
        "\n",
        "print(cancer)\n",
        "print(\"Train Accuracy:\",round(train_score,2),\"%\")\n",
        "print(\"Test Accuracy:\",round(test_score,2),\"%\")"
      ]
    },
    {
      "cell_type": "code",
      "source": [
        "import time\n",
        "kernels = ['linear', 'poly', 'rbf']\n",
        "C_values = [0.001, 0.01, 0.1, 1, 10, 100]\n",
        "gamma_values = [0.001, 0.01, 0.1, 1, 10, 100]\n",
        "\n",
        "best_model = None\n",
        "best_kernel = None\n",
        "best_score = 0\n",
        "\n",
        "starttime= time.process_time()\n",
        "\n",
        "for kernel in kernels:\n",
        "  for C in C_values:\n",
        "        for gamma in gamma_values:\n",
        "            svc = svm.SVC(kernel=kernel, class_weight='balanced', C=C, gamma=gamma,probability=True)\n",
        "            svc.fit(Xtr, Ytr)\n",
        "            y_pred_val = svc.predict(Xva)\n",
        "            score = metrics.accuracy_score(Yva, y_pred_val)*100\n",
        "            if score > best_score:\n",
        "                best_model = svc\n",
        "                best_kernel = kernel\n",
        "                best_score = score     #got the best hyperparameters/model from training and then also tested with test data\n",
        "\n",
        "# Evaluate the best model on the test set (overall)\n",
        "y_pred_test = best_model.predict(Xva) #insert X test set in our best model to get y_pred\n",
        "test_score = metrics.accuracy_score(Yva, y_pred_test)*100\n",
        "\n",
        "print(\"Best parameters:\",best_model)\n",
        "print(\"Kernel:\", best_kernel)\n",
        "# print(\"Validation accuracy:\", round(best_score, 2), \"%\")\n",
        "# print(\"Test accuracy:\", round(test_score, 2), \"%\")\n",
        "\n",
        "\n",
        "# Evaluate the best model on the test set\n",
        "y_pred_test = best_model.predict(Xva)\n",
        "test_score = metrics.accuracy_score(Yva, y_pred_test)*100\n",
        "\n",
        "svm_best = best_model\n",
        "svm_best.fit(Xtr, Ytr)\n",
        "\n",
        "y_pred_svm = svm_best.predict(Xva)\n",
        "\n",
        "endtime= time.process_time()\n",
        "\n",
        "totaltime= endtime- starttime\n",
        "print(f\"Total time taken by 5-fold Cross Validation with SVM is\" ,(totaltime),'seconds')\n",
        "print(\"Average Perfomance Measure of SVM Model using General Cross Validation\")\n",
        "# svm_cm = confusion_matrix(Yva,y_pred_svm)\n",
        "# print(\"Confusion Matrix generated from best svm model with optimal hyperparameters:\")\n",
        "# print(confusion_matrix(Yva,y_pred_svm),\"\\n\")\n",
        "print(\"Classification Report\")\n",
        "print(classification_report(Yva,y_pred_svm))\n",
        "\n",
        "# Recall: Model's ability to correctly detect positive (malignant) cases. --> Out of the positive class, how many did I predict were positive?\n",
        "## num true positive / (num true positive) + (num false negative)\n",
        "recall = recall_score(Yva, y_pred_svm)\n",
        "print(\"Recall Score: {:.2f}\".format(recall))\n",
        "# print(\"Out of all the malignant tumors in the dataset, {:.2f}% of them were classified as malignant by the model.\".format(recall*100))\n",
        "\n",
        "# Precision: Accuracy of the model's positive predictions --> Out of the positive predictions, how many were actually positive?\n",
        "## num true positive / (num true positive) + (num false positive)\n",
        "precision = precision_score(Yva, y_pred_svm)\n",
        "print(\"Precision Score: {:.2f}\".format(precision))\n",
        "# print(\"Out of the tumors that the model classified as malignant, {:.2f}% of them were actually malignant.\".format(precision*100))\n",
        "\n",
        "# Accuracy: Proportion of Correctly Predicted Cases (Class 0 & Class 1) = (num true positive + num true negative) / total number of predictions\n",
        "accuracy = svm_best.score(Xva, Yva)\n",
        "print(\"Accuracy: {:.2f}\".format(accuracy))\n",
        "# print(\"Out of all the tumors in the dataset, {:.2f}% of them were actually correctly classified by the model.\".format(accuracy*100))"
      ],
      "metadata": {
        "id": "VIGbhCDFzTSp"
      },
      "execution_count": null,
      "outputs": []
    },
    {
      "cell_type": "code",
      "source": [
        "#Classification Report (Training) To see Overfitting\n",
        "svm_best.fit(Xtr,Ytr)\n",
        "y_train_pred = svm_best.predict(Xtr)\n",
        "print(\"Classification Report (Train)\")\n",
        "print(classification_report(Ytr,y_train_pred))"
      ],
      "metadata": {
        "id": "9vkWwefCi-qv"
      },
      "execution_count": null,
      "outputs": []
    },
    {
      "cell_type": "markdown",
      "source": [
        "#### Hyperparameter Tuning and Cross Validation"
      ],
      "metadata": {
        "id": "btijO0gGPN16"
      }
    },
    {
      "cell_type": "markdown",
      "source": [
        "To obtain the optimal hyperparameters to train a model into robutness, and to also perform cross-validation we will implement the GridSearchCV method, the RandomizedSearchCV, and then Bayesian optimization. With each increasing technique, each method is more efficient in higher dimensions, decreasing runtime and time complexity while finding the optimal hyperparameters."
      ],
      "metadata": {
        "id": "oJyRxGFkXfDu"
      }
    },
    {
      "cell_type": "markdown",
      "source": [
        "Choosing 5-fold cross validation currently."
      ],
      "metadata": {
        "id": "xZP4ToMybvAC"
      }
    },
    {
      "cell_type": "code",
      "source": [
        "# %pip install bayesian-optimization==1.4.1\n",
        "from bayes_opt import BayesianOptimization\n",
        "from sklearn.svm import SVC\n",
        "from sklearn.model_selection import cross_val_score\n",
        "\n",
        "starttime= time.process_time()\n",
        "\n",
        "# Define the SVM model to be optimized\n",
        "def svm_cv(C, gamma):\n",
        "    svm = SVC(C=C, gamma=gamma, kernel='rbf',probability=True)\n",
        "    scores = cross_val_score(svm, X, Y, cv=5, scoring='accuracy')\n",
        "    return scores.mean()\n",
        "\n",
        "# Define the search space for the hyperparameters\n",
        "param_bounds = {'C': (0.1, 100), 'gamma': (0.01, 10)}\n",
        "\n",
        "# Define the Bayesian Optimization object and run the optimization\n",
        "svm_bayesopt = BayesianOptimization(svm_cv, param_bounds,verbose=0)\n",
        "svm_bayesopt.maximize(init_points=5, n_iter=20)\n",
        "\n",
        "# # Print the best hyperparameters found by Bayesian Optimization\n",
        "svm_bayesopt.maximize(init_points=5, n_iter=20)\n",
        "\n",
        "# Print the best hyperparameters found by Bayesian Optimization\n",
        "best_params = svm_bayesopt.max['params']\n",
        "print(f\"Best parameters: {best_params}\")\n",
        "\n",
        "svm_bestB = SVC(**best_params,probability=True)\n",
        "svm_bestB.fit(Xtr, Ytr)\n",
        "\n",
        "y_pred_svm = svm_bestB.predict(Xva)\n",
        "\n",
        "endtime= time.process_time()\n",
        "\n",
        "totaltime= endtime- starttime\n",
        "print(f\"Total time taken by 5-fold Cross Validation with SVM is\" ,(totaltime),'seconds')\n",
        "\n",
        "print(\"Average Perfomance Measure of SVM Model using Bayesian Optimization\")\n",
        "\n",
        "print(\"Classification Report\")\n",
        "print(classification_report(Yva,y_pred_svm))\n",
        "\n",
        "#On Test Data\n",
        "# Recall: Model's ability to correctly detect positive (malignant) cases. --> Out of the positive class, how many did I predict were positive?\n",
        "## num true positive / (num true positive) + (num false negative)\n",
        "recall = recall_score(Yva, y_pred_svm)\n",
        "print(\"Recall Score: {:.2f}\".format(recall))\n",
        "# print(\"Out of all the malignant tumors in the dataset, {:.2f}% of them were classified as malignant by the model.\".format(recall*100))\n",
        "\n",
        "# Precision: Accuracy of the model's positive predictions --> Out of the positive predictions, how many were actually positive?\n",
        "## num true positive / (num true positive) + (num false positive)\n",
        "precision = precision_score(Yva, y_pred_svm)\n",
        "print(\"Precision Score: {:.2f}\".format(precision))\n",
        "# print(\"Out of the tumors that the model classified as malignant, {:.2f}% of them were actually malignant.\".format(precision*100))\n",
        "\n",
        "# Accuracy: Proportion of Correctly Predicted Cases (Class 0 & Class 1) = (num true positive + num true negative) / total number of predictions\n",
        "accuracy = svm_best.score(Xva, Yva)\n",
        "print(\"Accuracy: {:.2f}\".format(accuracy))\n",
        "# print(\"Out of all the tumors in the dataset, {:.2f}% of them were actually correctly classified by the model.\".format(accuracy*100))"
      ],
      "metadata": {
        "id": "SWBoXh73Euon"
      },
      "execution_count": null,
      "outputs": []
    },
    {
      "cell_type": "code",
      "source": [
        "#Classification Report (Training) To see Overfitting\n",
        "svm_bestB.fit(Xtr,Ytr)\n",
        "y_train_pred_2 = svm_bestB.predict(Xtr)\n",
        "print(\"Classification Report (Train)\")\n",
        "print(classification_report(Ytr,y_train_pred_2))"
      ],
      "metadata": {
        "id": "8TeyAjn8isZg"
      },
      "execution_count": null,
      "outputs": []
    },
    {
      "cell_type": "markdown",
      "source": [
        "#### Calibrated Classification of the SVM Model"
      ],
      "metadata": {
        "id": "8-YVuhfnOVVQ"
      }
    },
    {
      "cell_type": "markdown",
      "source": [
        "Although we are able to detect the accuracy of the model overall with the test set, we would also like to look at the estimated class probabilities, the confidence of the diagnosis of benign or malignant.\n",
        "This is especially important since having a strong prediction/certainty of the diagnosis will greatly impact the patient. We would like a strong positive correlation between the computed probability and proportion of positive \"malign\" tumor.\n",
        "\n",
        "We will calibrate the model using the Platt's method,which is suitable for smaller data and recheck accuracy. However, there may be a tradeoff between accuracy and calibration."
      ],
      "metadata": {
        "id": "pLjY3ODeTh3X"
      }
    },
    {
      "cell_type": "code",
      "source": [
        "#First Best model\n",
        "from sklearn.metrics import roc_curve, auc\n",
        "\n",
        "y_pred_svm_cal = svm_best.predict_proba(Xva)[:, 1] # fix typo here\n",
        "svm_cm = confusion_matrix(Yva, best_model.predict(Xva)) # use best_model here\n",
        "\n",
        "# Calculate the False Positive Rate (FPR) and True Positive Rate (TPR) for different threshold values\n",
        "fpr, tpr, thresholds = roc_curve(Yva, y_pred_svm_cal) # use y_pred_svm_cal here\n",
        "\n",
        "# Plot the ROC curve\n",
        "import matplotlib.pyplot as plt\n",
        "\n",
        "plt.plot(fpr, tpr)\n",
        "plt.plot([0, 1], [0, 1], linestyle='--')\n",
        "plt.xlabel('False Positive Rate')\n",
        "plt.ylabel('True Positive Rate')\n",
        "plt.title('First Best Model ROC Curve')\n",
        "\n",
        "# Calculate the AUC score\n",
        "auc_score = auc(fpr, tpr)\n",
        "print('AUC: %.3f' % auc_score)"
      ],
      "metadata": {
        "id": "1PoRU1PYgOeV"
      },
      "execution_count": null,
      "outputs": []
    },
    {
      "cell_type": "code",
      "source": [
        "#Just for Bayesian rn\n",
        "\n",
        "from sklearn.metrics import roc_curve, auc\n",
        "\n",
        "y_pred_svm_cal_2 = svm_bestB.predict_proba(Xva)[:, 1] # fix typo here\n",
        "svm_cm_2 = confusion_matrix(Yva, svm_bestB.predict(Xva)) # use best_model here\n",
        "\n",
        "# Calculate the False Positive Rate (FPR) and True Positive Rate (TPR) for different threshold values\n",
        "fpr_2, tpr_2, thresholds_2 = roc_curve(Yva, y_pred_svm_cal_2) # use y_pred_svm_cal here\n",
        "\n",
        "# Plot the ROC curve\n",
        "import matplotlib.pyplot as plt\n",
        "\n",
        "plt.plot(fpr_2, tpr_2)\n",
        "plt.plot([0, 1], [0, 1], linestyle='--')\n",
        "plt.xlabel('False Positive Rate')\n",
        "plt.ylabel('True Positive Rate')\n",
        "plt.title('Second Bayesian Method Best Model ROC Curve')\n",
        "\n",
        "# Calculate the AUC score\n",
        "auc_score = auc(fpr_2, tpr_2)\n",
        "print('AUC: %.3f' % auc_score)"
      ],
      "metadata": {
        "id": "WC2x61pHJUcf"
      },
      "execution_count": null,
      "outputs": []
    },
    {
      "cell_type": "markdown",
      "source": [
        "##Possible Improvement SVM"
      ],
      "metadata": {
        "id": "CPF5Fifv7zIF"
      }
    },
    {
      "cell_type": "markdown",
      "source": [
        "### PCA (Change to eda, seeing what variables most variance/importance, with plot)\n",
        "With multicollinearity seen between our features, PCA may be able to improve accuracy through decreasing dimensionality. Principle Component Analysis (PCA), is an unsupervised technique which reduces dimensionality by projecting principle components from orginal data. Principle components are the directions in the data, capturing the maximum variance. From the linear combinations of the data, the first principle component captures the most variance of the original data, and the following captures the variance left over. The number of principle components are able to be chosen, and we are left with the reduced dataset.\n",
        "\n",
        "2 Principle components will be chosen, as it would be easier to visualize in a scatterplot, showing the separation between the classes (Malignant vs Benign).\n",
        "Since there are so few features, this might not improve the performance of the model."
      ],
      "metadata": {
        "id": "-LR8wIS6FAJM"
      }
    },
    {
      "cell_type": "code",
      "source": [
        "#Graphing Split\n",
        "from sklearn.decomposition import PCA\n",
        "\n",
        "pca = PCA(n_components=2)\n",
        "pca.fit(mean_features)\n",
        "pca_X = pca.transform(mean_features)\n",
        "\n",
        "# plt.figure(figsize=(8, 8))\n",
        "sns.set_palette(\"pastel\")\n",
        "sns.scatterplot(x=pca_X[:,0],y=pca_X[:,1], hue=mean_features['diagnosis'])\n",
        "\n",
        "plt.title(\"PCA\")\n",
        "plt.xlabel(\"First Principal Component\")\n",
        "plt.xlabel(\"Second Principal Component\")\n",
        "plt.show()\n",
        "\n"
      ],
      "metadata": {
        "id": "3cFn8ElgFsPz"
      },
      "execution_count": null,
      "outputs": []
    },
    {
      "cell_type": "code",
      "source": [
        "#Then use new dataframe for model training, finding optimal parameters."
      ],
      "metadata": {
        "id": "i2LsYgByilUj"
      },
      "execution_count": null,
      "outputs": []
    },
    {
      "cell_type": "markdown",
      "metadata": {
        "id": "12K7wdQDSK1U"
      },
      "source": [
        "## Random Forest"
      ]
    },
    {
      "cell_type": "markdown",
      "metadata": {
        "id": "jk9eTYOFI0Ys"
      },
      "source": [
        "The dataset is imbalanced, in which 63% of the observations belong to class 0 (benign), or the majority class, and 37% of the observations belong to class 1 (malignant), or the minority class. As a result, a random forest model will most likely select features that are better at predicting the majority class, during the tree construction process. While the model may accurately predict instances in the majority class, it will perform poorly in predicting instances in the minority class. \n",
        "\n",
        "\n",
        "To address this issue, we will use Stratified K-fold cross validation, and GridSearchCV combined. Stratified K-fold cross validation  is essentially K-fold cross validation, except that it ensures that within each fold, the proportion of each class is roughly equal. We will also use GridSearchCV for hyperparameter tuning which will search over a range of hyperparameters to find the combination that yields the best performance on the validation set. Using these two methods together will allow us to make accurate hyperparameter choices.  "
      ]
    },
    {
      "cell_type": "code",
      "execution_count": null,
      "metadata": {
        "id": "erv_LQjXJI8s"
      },
      "outputs": [],
      "source": [
        "from sklearn.ensemble import RandomForestClassifier\n",
        "from sklearn.model_selection import StratifiedKFold\n",
        "from sklearn.model_selection import GridSearchCV\n",
        "\n",
        "# Split the data to train and test the model (.8,.2) --> 80% assigned to train, 20% assigned to validate/test\n",
        "mean_features = data.iloc[:, 1:12]\n",
        "\n",
        "X = mean_features.drop(['diagnosis'], axis=1)\n",
        "Y = mean_features['diagnosis']\n",
        "\n",
        "Xtr, Xva, Ytr, Yva = train_test_split(X, Y, test_size = 0.2, random_state=10)\n",
        "\n",
        "num_folds = 10\n",
        "skf = StratifiedKFold(n_splits=num_folds, shuffle=True, random_state=42)\n",
        "\n",
        "# Define the hyperparameters to tune\n",
        "param_grid = {'n_estimators': [50, 100, 200], # number of decision trees in forest\n",
        "              'max_features': range(1,11), # maximum number of features to consider when splitting a node in each decision tree in the random forest.\n",
        "              'max_depth': range(2, 15), # maximum depth of the tree\n",
        "              'min_samples_leaf': range(1,3), # minimum number of samples to include in a leaf node\n",
        "              'criterion':['gini','entropy']}\n",
        "\n",
        "rf = RandomForestClassifier(random_state=42, n_jobs=-1)\n",
        "\n",
        "gcv = GridSearchCV(rf, param_grid, n_jobs=-1, cv=skf, scoring='recall')\n",
        "\n",
        "gcv.fit(Xtr, Ytr)"
      ]
    },
    {
      "cell_type": "code",
      "execution_count": null,
      "metadata": {
        "id": "s_8yNWuhMeQH"
      },
      "outputs": [],
      "source": [
        "from sklearn.metrics import recall_score\n",
        "from sklearn.metrics import precision_score\n",
        "from sklearn.metrics import confusion_matrix\n",
        "from sklearn.metrics import accuracy_score\n",
        "import time\n",
        "\n",
        "best_params = gcv.best_params_\n",
        "best_score = gcv.best_score_\n",
        "\n",
        "starttime= time.process_time()\n",
        "# Fit the best random forest model obtained from GridSearchCV\n",
        "best_rf = RandomForestClassifier(random_state=42, n_jobs=-1, **best_params)\n",
        "best_rf.fit(Xtr, Ytr)\n",
        "\n",
        "# predictions on test data generated from best random forest model\n",
        "y_pred = best_rf.predict(Xva)\n",
        "\n",
        "endtime= time.process_time()\n",
        "\n",
        "totaltime= endtime- starttime\n",
        "print(f\"Total time taken by Random Forest Classifier is\" ,(totaltime),'seconds')\n",
        "\n",
        "# Confusion Matrix\n",
        "cm = confusion_matrix(Yva, y_pred)\n",
        "print(\"Confusion Matrix generated from best random forest model with optimal hyperparameters: \\n\", cm)\n",
        "\n",
        "# Recall: Model's ability to correctly detect positive (malignant) cases. --> Out of the positive class, how many did I predict were positive?\n",
        "## num true positive / (num true positive) + (num false negative)\n",
        "recall = recall_score(Yva, y_pred)\n",
        "print(\"\\n Recall Score on test data, using best random forest model with optimal hyperparameters: {:.2f}\".format(recall))\n",
        "print(\"Out of all the malignant tumors in the dataset, {:.2f}% of them were classified as malignant by the model.\".format(recall*100))\n",
        "\n",
        "# Precision: Accuracy of the model's positive predictions --> Out of the positive predictions, how many were actually positive?\n",
        "## num true positive / (num true positive) + (num false positive)\n",
        "precision = precision_score(Yva, y_pred)\n",
        "print(\"\\n Precision Score on test data, using best random forest model with optimal hyperparameters: {:.2f}\".format(precision))\n",
        "print(\"Out of the tumors that the model classified as malignant, {:.2f}% of them were actually malignant.\".format(precision*100))\n",
        "\n",
        "# Accuracy: Proportion of Correctly Predicted Cases (Class 0 & Class 1) = (num true positive + num true negative) / total number of predictions\n",
        "accuracy = best_rf.score(Xva, Yva)\n",
        "print(\"\\n Accuracy on test data, using best random forest model with optimal hyperparameters: {:.2f}\".format(accuracy))\n",
        "print(\"Out of all the tumors in the dataset, {:.2f}% of them were correctly classified by the model.\".format(accuracy*100))"
      ]
    },
    {
      "cell_type": "markdown",
      "source": [
        "#### Cross Validation"
      ],
      "metadata": {
        "id": "ge3dtAQiQCub"
      }
    },
    {
      "cell_type": "markdown",
      "source": [
        "Even though we already used GridSearchCV to determine the best hyperparameter choices for the random forest model, this does not ensure that our model will generalize well to unseen data. \n",
        "\n",
        "We should still use additional cross validation to estimate the performance of our model on unseen data. We will still use stratified k-fold cross validation to also account for the imbalanced data.\n",
        "\n",
        "In the context of medical diagnosis, it is important to prioritize high precision and high recall. F1 score is a model performance measure that captures both precision and recall, and so we want this number to be as close to 1 as possible, which would represent perfect precision and recall."
      ],
      "metadata": {
        "id": "K2iUCdIzXZ1D"
      }
    },
    {
      "cell_type": "code",
      "execution_count": null,
      "metadata": {
        "id": "Ot8O_wXanha2"
      },
      "outputs": [],
      "source": [
        "accuracies = []\n",
        "precisions = []\n",
        "recalls = []\n",
        "f1_scores = []\n",
        "\n",
        "skf = StratifiedKFold(n_splits=num_folds, shuffle=True, random_state=42)\n",
        "\n",
        "starttime= time.process_time()\n",
        "\n",
        "for fold_i, (train_index, test_index) in enumerate(skf.split(X, Y)):\n",
        "    X_train, X_test = X.loc[train_index], X.loc[test_index]\n",
        "    y_train, y_test = Y[train_index], Y[test_index]\n",
        "\n",
        "    # Already created instance of random forest classifer with best hyperparameters, just need to fit \n",
        "    best_rf.fit(X_train, y_train)\n",
        "    y_pred = best_rf.predict(X_test)\n",
        "\n",
        "    # Performance measures after each iteration of K-fold cross validation\n",
        "    accuracy = accuracy_score(y_test, y_pred)\n",
        "    precision = precision_score(y_test, y_pred)\n",
        "    recall = recall_score(y_test, y_pred)\n",
        "    f1_score = (2 * (precision * recall) / (precision + recall))\n",
        "\n",
        "    accuracies.append(accuracy)\n",
        "    precisions.append(precision)\n",
        "    recalls.append(recall)\n",
        "    f1_scores.append(f1_score)\n",
        "\n",
        "    print(\"FOLD: \", fold_i+1)\n",
        "    print(\"Accuracy: {:.2f}\".format(accuracy))\n",
        "    print(\"Precision: {:.2f}\".format(precision))\n",
        "    print(\"Recall: {:.2f}\".format(recall))\n",
        "    print(\"F1 Score: {:.2f}\".format(f1_score))\n",
        "    print(\"\\n\")\n",
        "\n",
        "endtime= time.process_time()\n",
        "\n",
        "totaltime= endtime- starttime\n",
        "print(f\"Total time taken by 10-fold Cross Validation with Random Forest Classifier is\" ,(totaltime),'seconds')\n",
        "\n",
        "print(\"Average Peformance Measures of Random Forest Model Using {}-fold Cross Validation\".format(num_folds))\n",
        "print(\"Accuracy: \", np.mean(accuracies))\n",
        "print(\"Precision: \", np.mean(precisions))\n",
        "print(\"Recall: \", np.mean(recalls))\n",
        "print(\"F1 Score: \", np.mean(f1_scores))\n"
      ]
    },
    {
      "cell_type": "markdown",
      "source": [
        "These average performance measures are estimates of the model's performance on new, unseen data. The random forest model with hyperparameter choices generated from GridSearchCV is expected to perform well on unseen data, with high precision and high recall, as indicated by the F1 score of 0.91."
      ],
      "metadata": {
        "id": "AI91VF5cgMMR"
      }
    }
  ],
  "metadata": {
    "colab": {
      "provenance": [],
      "toc_visible": true
    },
    "kernelspec": {
      "display_name": "Python 3",
      "name": "python3"
    },
    "language_info": {
      "name": "python"
    },
    "gpuClass": "standard"
  },
  "nbformat": 4,
  "nbformat_minor": 0
}